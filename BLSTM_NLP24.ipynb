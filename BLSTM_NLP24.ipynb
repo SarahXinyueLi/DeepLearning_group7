{
 "cells": [
  {
   "cell_type": "code",
   "execution_count": 1,
   "metadata": {},
   "outputs": [],
   "source": [
    "import numpy as np\n",
    "import pandas as pd\n",
    "import math\n",
    "import sklearn\n",
    "import sklearn.preprocessing\n",
    "import datetime\n",
    "import os\n",
    "import matplotlib.pyplot as plt\n",
    "import tensorflow as tf\n",
    "import scipy"
   ]
  },
  {
   "cell_type": "code",
   "execution_count": 2,
   "metadata": {},
   "outputs": [
    {
     "data": {
      "text/plain": [
       "(2079, 4)"
      ]
     },
     "execution_count": 2,
     "metadata": {},
     "output_type": "execute_result"
    }
   ],
   "source": [
    "log_files_path_data = 'Data/'\n",
    "dfmain = pd.read_csv(log_files_path_data + \"OHLC.csv\",index_col=False)\n",
    "dfmain.shape"
   ]
  },
  {
   "cell_type": "code",
   "execution_count": 5,
   "metadata": {},
   "outputs": [],
   "source": [
    "Open = dfmain[\"Open Price\"]\n",
    "Low = dfmain[\"Low Price\"]\n",
    "High = dfmain[\"High Price\"]\n",
    "Close = dfmain[\"Close Price\"]"
   ]
  },
  {
   "cell_type": "code",
   "execution_count": 6,
   "metadata": {},
   "outputs": [
    {
     "data": {
      "text/plain": [
       "(2079, 24)"
      ]
     },
     "execution_count": 6,
     "metadata": {},
     "output_type": "execute_result"
    }
   ],
   "source": [
    "dfn = pd.read_csv(log_files_path_data + \"NLP_20andextra.csv\",index_col=0)\n",
    "dfn.shape"
   ]
  },
  {
   "cell_type": "code",
   "execution_count": 7,
   "metadata": {},
   "outputs": [
    {
     "data": {
      "text/html": [
       "<div>\n",
       "<style scoped>\n",
       "    .dataframe tbody tr th:only-of-type {\n",
       "        vertical-align: middle;\n",
       "    }\n",
       "\n",
       "    .dataframe tbody tr th {\n",
       "        vertical-align: top;\n",
       "    }\n",
       "\n",
       "    .dataframe thead th {\n",
       "        text-align: right;\n",
       "    }\n",
       "</style>\n",
       "<table border=\"1\" class=\"dataframe\">\n",
       "  <thead>\n",
       "    <tr style=\"text-align: right;\">\n",
       "      <th></th>\n",
       "      <th>0</th>\n",
       "      <th>1</th>\n",
       "      <th>2</th>\n",
       "      <th>3</th>\n",
       "      <th>4</th>\n",
       "      <th>5</th>\n",
       "      <th>6</th>\n",
       "      <th>7</th>\n",
       "      <th>8</th>\n",
       "      <th>9</th>\n",
       "      <th>...</th>\n",
       "      <th>14</th>\n",
       "      <th>15</th>\n",
       "      <th>16</th>\n",
       "      <th>17</th>\n",
       "      <th>18</th>\n",
       "      <th>19</th>\n",
       "      <th>20</th>\n",
       "      <th>21</th>\n",
       "      <th>22</th>\n",
       "      <th>23</th>\n",
       "    </tr>\n",
       "  </thead>\n",
       "  <tbody>\n",
       "    <tr>\n",
       "      <th>0</th>\n",
       "      <td>-1.179350</td>\n",
       "      <td>1.093155</td>\n",
       "      <td>-1.093298</td>\n",
       "      <td>1.831284</td>\n",
       "      <td>-0.212489</td>\n",
       "      <td>-0.199992</td>\n",
       "      <td>-0.523749</td>\n",
       "      <td>1.132538</td>\n",
       "      <td>0.384131</td>\n",
       "      <td>-0.357564</td>\n",
       "      <td>...</td>\n",
       "      <td>-0.585762</td>\n",
       "      <td>-0.269130</td>\n",
       "      <td>1.044385</td>\n",
       "      <td>-1.012265</td>\n",
       "      <td>-0.155407</td>\n",
       "      <td>1.366740</td>\n",
       "      <td>23</td>\n",
       "      <td>28</td>\n",
       "      <td>0.043574</td>\n",
       "      <td>0.341567</td>\n",
       "    </tr>\n",
       "    <tr>\n",
       "      <th>1</th>\n",
       "      <td>0.660418</td>\n",
       "      <td>0.453750</td>\n",
       "      <td>0.298867</td>\n",
       "      <td>1.562769</td>\n",
       "      <td>0.597384</td>\n",
       "      <td>0.985197</td>\n",
       "      <td>0.496383</td>\n",
       "      <td>-0.058332</td>\n",
       "      <td>-0.092421</td>\n",
       "      <td>-0.361294</td>\n",
       "      <td>...</td>\n",
       "      <td>1.268756</td>\n",
       "      <td>-0.034282</td>\n",
       "      <td>-0.381020</td>\n",
       "      <td>0.245287</td>\n",
       "      <td>0.783031</td>\n",
       "      <td>-1.791784</td>\n",
       "      <td>25</td>\n",
       "      <td>35</td>\n",
       "      <td>0.103182</td>\n",
       "      <td>0.393179</td>\n",
       "    </tr>\n",
       "    <tr>\n",
       "      <th>2</th>\n",
       "      <td>1.973498</td>\n",
       "      <td>-0.278977</td>\n",
       "      <td>1.192770</td>\n",
       "      <td>0.082261</td>\n",
       "      <td>1.823226</td>\n",
       "      <td>-0.494135</td>\n",
       "      <td>0.082803</td>\n",
       "      <td>-0.661800</td>\n",
       "      <td>0.297644</td>\n",
       "      <td>0.351847</td>\n",
       "      <td>...</td>\n",
       "      <td>-0.331853</td>\n",
       "      <td>-1.917343</td>\n",
       "      <td>1.953617</td>\n",
       "      <td>0.119973</td>\n",
       "      <td>-1.065426</td>\n",
       "      <td>-0.268356</td>\n",
       "      <td>28</td>\n",
       "      <td>40</td>\n",
       "      <td>0.097508</td>\n",
       "      <td>0.400042</td>\n",
       "    </tr>\n",
       "    <tr>\n",
       "      <th>3</th>\n",
       "      <td>-0.038314</td>\n",
       "      <td>1.748532</td>\n",
       "      <td>1.321690</td>\n",
       "      <td>0.409203</td>\n",
       "      <td>0.865388</td>\n",
       "      <td>-0.958113</td>\n",
       "      <td>-2.440522</td>\n",
       "      <td>-2.097418</td>\n",
       "      <td>-0.228565</td>\n",
       "      <td>-0.026511</td>\n",
       "      <td>...</td>\n",
       "      <td>-0.033496</td>\n",
       "      <td>1.471607</td>\n",
       "      <td>0.081257</td>\n",
       "      <td>0.207360</td>\n",
       "      <td>0.548547</td>\n",
       "      <td>-0.098573</td>\n",
       "      <td>16</td>\n",
       "      <td>40</td>\n",
       "      <td>0.033077</td>\n",
       "      <td>0.321905</td>\n",
       "    </tr>\n",
       "    <tr>\n",
       "      <th>4</th>\n",
       "      <td>0.232499</td>\n",
       "      <td>-1.818002</td>\n",
       "      <td>1.407818</td>\n",
       "      <td>-0.096101</td>\n",
       "      <td>-2.434217</td>\n",
       "      <td>0.128809</td>\n",
       "      <td>0.487804</td>\n",
       "      <td>0.905607</td>\n",
       "      <td>-1.252309</td>\n",
       "      <td>-0.347700</td>\n",
       "      <td>...</td>\n",
       "      <td>0.518922</td>\n",
       "      <td>0.896470</td>\n",
       "      <td>0.908013</td>\n",
       "      <td>1.119629</td>\n",
       "      <td>0.208102</td>\n",
       "      <td>-0.027317</td>\n",
       "      <td>27</td>\n",
       "      <td>39</td>\n",
       "      <td>0.015448</td>\n",
       "      <td>0.450444</td>\n",
       "    </tr>\n",
       "  </tbody>\n",
       "</table>\n",
       "<p>5 rows × 24 columns</p>\n",
       "</div>"
      ],
      "text/plain": [
       "          0         1         2         3         4         5         6  \\\n",
       "0 -1.179350  1.093155 -1.093298  1.831284 -0.212489 -0.199992 -0.523749   \n",
       "1  0.660418  0.453750  0.298867  1.562769  0.597384  0.985197  0.496383   \n",
       "2  1.973498 -0.278977  1.192770  0.082261  1.823226 -0.494135  0.082803   \n",
       "3 -0.038314  1.748532  1.321690  0.409203  0.865388 -0.958113 -2.440522   \n",
       "4  0.232499 -1.818002  1.407818 -0.096101 -2.434217  0.128809  0.487804   \n",
       "\n",
       "          7         8         9  ...        14        15        16        17  \\\n",
       "0  1.132538  0.384131 -0.357564  ... -0.585762 -0.269130  1.044385 -1.012265   \n",
       "1 -0.058332 -0.092421 -0.361294  ...  1.268756 -0.034282 -0.381020  0.245287   \n",
       "2 -0.661800  0.297644  0.351847  ... -0.331853 -1.917343  1.953617  0.119973   \n",
       "3 -2.097418 -0.228565 -0.026511  ... -0.033496  1.471607  0.081257  0.207360   \n",
       "4  0.905607 -1.252309 -0.347700  ...  0.518922  0.896470  0.908013  1.119629   \n",
       "\n",
       "         18        19  20  21        22        23  \n",
       "0 -0.155407  1.366740  23  28  0.043574  0.341567  \n",
       "1  0.783031 -1.791784  25  35  0.103182  0.393179  \n",
       "2 -1.065426 -0.268356  28  40  0.097508  0.400042  \n",
       "3  0.548547 -0.098573  16  40  0.033077  0.321905  \n",
       "4  0.208102 -0.027317  27  39  0.015448  0.450444  \n",
       "\n",
       "[5 rows x 24 columns]"
      ]
     },
     "execution_count": 7,
     "metadata": {},
     "output_type": "execute_result"
    }
   ],
   "source": [
    "dfn.head()"
   ]
  },
  {
   "cell_type": "code",
   "execution_count": 8,
   "metadata": {},
   "outputs": [],
   "source": [
    "dfn[24] = Open\n",
    "dfn[25] = Low\n",
    "dfn[26] = High\n",
    "dfn[27] = Close"
   ]
  },
  {
   "cell_type": "code",
   "execution_count": 9,
   "metadata": {},
   "outputs": [
    {
     "data": {
      "text/plain": [
       "(2079, 28)"
      ]
     },
     "execution_count": 9,
     "metadata": {},
     "output_type": "execute_result"
    }
   ],
   "source": [
    "dfn.shape"
   ]
  },
  {
   "cell_type": "code",
   "execution_count": 10,
   "metadata": {},
   "outputs": [],
   "source": [
    "df = dfn.copy()"
   ]
  },
  {
   "cell_type": "code",
   "execution_count": 11,
   "metadata": {},
   "outputs": [],
   "source": [
    "valid_set_size_percentage = 10 \n",
    "test_set_size_percentage = 10"
   ]
  },
  {
   "cell_type": "code",
   "execution_count": 12,
   "metadata": {},
   "outputs": [],
   "source": [
    "## Spring 2019\n",
    "def normalize_data(df):\n",
    "    min_max_scaler = sklearn.preprocessing.MinMaxScaler()\n",
    "    scaler = [None] * df.shape[1]\n",
    "    for i in range(df.shape[1]):\n",
    "        scaler[i] = min_max_scaler.fit(df.iloc[:,i].values.reshape(-1,1))\n",
    "        df.iloc[:,i] = scaler[i].transform(df.iloc[:,i].values.reshape(-1,1))          \n",
    "    return scaler, df"
   ]
  },
  {
   "cell_type": "code",
   "execution_count": 13,
   "metadata": {},
   "outputs": [],
   "source": [
    "# function to create train, validation, test data given stock data and sequence length\n",
    "def load_data(stock, seq_len):\n",
    "    data_raw = stock.as_matrix() # convert to numpy array\n",
    "    data = []\n",
    "    \n",
    "    # create all possible sequences of length seq_len\n",
    "    for index in range(len(data_raw) - seq_len): \n",
    "        data.append(data_raw[index: index + seq_len])\n",
    "    print(len(data[0][0])) ## (len-20)*seq_len* features(include close)\n",
    "    data = np.array(data);\n",
    "    valid_set_size = int(np.round(valid_set_size_percentage/100*data.shape[0]));  \n",
    "    test_set_size = int(np.round(test_set_size_percentage/100*data.shape[0]));\n",
    "    train_set_size = data.shape[0] - (valid_set_size + test_set_size);\n",
    "    \n",
    "    x_train = data[:train_set_size,:-1,:]\n",
    "    y_train = data[:train_set_size,-1,:]\n",
    "    \n",
    "    x_valid = data[train_set_size:train_set_size+valid_set_size,:-1,:]\n",
    "    y_valid = data[train_set_size:train_set_size+valid_set_size,-1,:]\n",
    "    \n",
    "    x_test = data[train_set_size+valid_set_size:,:-1,:]\n",
    "    y_test = data[train_set_size+valid_set_size:,-1,:]\n",
    "    \n",
    "    return [x_train, y_train, x_valid, y_valid, x_test, y_test]"
   ]
  },
  {
   "cell_type": "code",
   "execution_count": 14,
   "metadata": {},
   "outputs": [
    {
     "name": "stdout",
     "output_type": "stream",
     "text": [
      "28\n"
     ]
    },
    {
     "name": "stderr",
     "output_type": "stream",
     "text": [
      "/usr/local/lib/python3.6/site-packages/ipykernel_launcher.py:3: FutureWarning: Method .as_matrix will be removed in a future version. Use .values instead.\n",
      "  This is separate from the ipykernel package so we can avoid doing imports until\n"
     ]
    }
   ],
   "source": [
    "## Data without normalization\n",
    "[x_train_ori, y_train_ori, x_valid_ori, y_valid_ori, x_test_ori, y_test_ori] = load_data(df, 20)"
   ]
  },
  {
   "cell_type": "code",
   "execution_count": 15,
   "metadata": {},
   "outputs": [
    {
     "name": "stdout",
     "output_type": "stream",
     "text": [
      "df_stock.columns.values =  ['0', '1', '2', '3', '4', '5', '6', '7', '8', '9', '10', '11', '12', '13', '14', '15', '16', '17', '18', '19', '20', '21', '22', '23', 24, 25, 26, 27]\n",
      "28\n",
      "x_train.shape =  (1647, 19, 28)\n",
      "y_train.shape =  (1647, 28)\n",
      "x_valid.shape =  (206, 19, 28)\n",
      "y_valid.shape =  (206, 28)\n",
      "x_test.shape =  (206, 19, 28)\n",
      "y_test.shape =  (206, 28)\n"
     ]
    },
    {
     "name": "stderr",
     "output_type": "stream",
     "text": [
      "/usr/local/lib/python3.6/site-packages/sklearn/utils/validation.py:595: DataConversionWarning: Data with input dtype int64 was converted to float64 by MinMaxScaler.\n",
      "  warnings.warn(msg, DataConversionWarning)\n",
      "/usr/local/lib/python3.6/site-packages/sklearn/utils/validation.py:595: DataConversionWarning: Data with input dtype int64 was converted to float64 by MinMaxScaler.\n",
      "  warnings.warn(msg, DataConversionWarning)\n",
      "/usr/local/lib/python3.6/site-packages/ipykernel_launcher.py:3: FutureWarning: Method .as_matrix will be removed in a future version. Use .values instead.\n",
      "  This is separate from the ipykernel package so we can avoid doing imports until\n"
     ]
    }
   ],
   "source": [
    "# choose one stock\n",
    "df_stock = df.copy()\n",
    "\n",
    "cols = list(df_stock.columns.values)\n",
    "print('df_stock.columns.values = ', cols)\n",
    "\n",
    "# normalize stock\n",
    "df_stock_norm = df_stock.copy()\n",
    "min_max_scaler, df_stock_norm = normalize_data(df_stock_norm)\n",
    "\n",
    "# create train, test data\n",
    "seq_len = 20 # choose sequence length\n",
    "x_train, y_train, x_valid, y_valid, x_test, y_test = load_data(df_stock_norm, seq_len)\n",
    "# x_train, y_train, x_valid, y_valid, x_test, y_test = load_data(df_stock_norm, seq_len)\n",
    "print('x_train.shape = ',x_train.shape)\n",
    "print('y_train.shape = ', y_train.shape)\n",
    "print('x_valid.shape = ',x_valid.shape)\n",
    "print('y_valid.shape = ', y_valid.shape)\n",
    "print('x_test.shape = ', x_test.shape)\n",
    "print('y_test.shape = ',y_test.shape)"
   ]
  },
  {
   "cell_type": "code",
   "execution_count": 16,
   "metadata": {},
   "outputs": [
    {
     "name": "stdout",
     "output_type": "stream",
     "text": [
      "[   0    1    2 ... 1644 1645 1646]\n"
     ]
    }
   ],
   "source": [
    "# - RNNs with basic, LSTM, GRU cells\n",
    "## Basic Cell RNN in tensorflow\n",
    "\n",
    "index_in_epoch = 0;\n",
    "perm_array  = np.arange(x_train.shape[0])\n",
    "print(perm_array)\n",
    "np.random.shuffle(perm_array)"
   ]
  },
  {
   "cell_type": "code",
   "execution_count": 17,
   "metadata": {},
   "outputs": [],
   "source": [
    "# function to get the next batch\n",
    "def get_next_batch(batch_size):\n",
    "    global index_in_epoch, x_train, perm_array   \n",
    "    start = index_in_epoch\n",
    "    index_in_epoch += batch_size\n",
    "    \n",
    "    if index_in_epoch > x_train.shape[0]:\n",
    "        np.random.shuffle(perm_array) # shuffle permutation array\n",
    "        start = 0 # start next epoch\n",
    "        index_in_epoch = batch_size       \n",
    "    end = index_in_epoch\n",
    "    return x_train[perm_array[start:end]], y_train[perm_array[start:end]]"
   ]
  },
  {
   "cell_type": "code",
   "execution_count": 18,
   "metadata": {},
   "outputs": [],
   "source": [
    "# Remember to adjust this!!\n",
    "index_to_begin = 24\n",
    "index_to_stop = 27\n",
    "\n",
    "# Remember to adjust this!!\n",
    "n_inputs = 28\n",
    "\n",
    "# Remember to adjust this!!\n",
    "n_outputs = 28\n",
    "\n",
    "\n",
    "n_steps = seq_len-1 \n",
    "n_layers = 3  # try 3 and 7 later\n",
    "n_neurons = 256 # try 256 later\n",
    "learning_rate = 0.0005\n",
    "batch_size = 50 # batch size should be 60\n",
    "n_epochs = 10  # should be 200\n",
    "dropout_rate = 0.5\n",
    "forget_bias = 0.1\n",
    "\n",
    "train_set_size = x_train.shape[0]\n",
    "test_set_size = x_test.shape[0]\n",
    "\n",
    "tf.reset_default_graph()"
   ]
  },
  {
   "cell_type": "code",
   "execution_count": 19,
   "metadata": {
    "scrolled": true
   },
   "outputs": [
    {
     "name": "stdout",
     "output_type": "stream",
     "text": [
      "WARNING:tensorflow:From <ipython-input-19-1743d3e5852e>:2: LSTMCell.__init__ (from tensorflow.python.ops.rnn_cell_impl) is deprecated and will be removed in a future version.\n",
      "Instructions for updating:\n",
      "This class is equivalent as tf.keras.layers.LSTMCell, and will be replaced by that in Tensorflow 2.0.\n",
      "WARNING:tensorflow:<tensorflow.python.ops.rnn_cell_impl.LSTMCell object at 0x7ff25916e160>: Using a concatenated state is slower and will soon be deprecated.  Use state_is_tuple=True.\n",
      "WARNING:tensorflow:<tensorflow.python.ops.rnn_cell_impl.LSTMCell object at 0x7ff25916e438>: Using a concatenated state is slower and will soon be deprecated.  Use state_is_tuple=True.\n",
      "WARNING:tensorflow:<tensorflow.python.ops.rnn_cell_impl.LSTMCell object at 0x7ff25916e4a8>: Using a concatenated state is slower and will soon be deprecated.  Use state_is_tuple=True.\n",
      "WARNING:tensorflow:From <ipython-input-19-1743d3e5852e>:6: MultiRNNCell.__init__ (from tensorflow.python.ops.rnn_cell_impl) is deprecated and will be removed in a future version.\n",
      "Instructions for updating:\n",
      "This class is equivalent as tf.keras.layers.StackedRNNCells, and will be replaced by that in Tensorflow 2.0.\n",
      "WARNING:tensorflow:<tensorflow.python.ops.rnn_cell_impl.LSTMCell object at 0x7ff25916e278>: Using a concatenated state is slower and will soon be deprecated.  Use state_is_tuple=True.\n",
      "WARNING:tensorflow:<tensorflow.python.ops.rnn_cell_impl.LSTMCell object at 0x7ff25916e5c0>: Using a concatenated state is slower and will soon be deprecated.  Use state_is_tuple=True.\n",
      "WARNING:tensorflow:<tensorflow.python.ops.rnn_cell_impl.LSTMCell object at 0x7ff25916e668>: Using a concatenated state is slower and will soon be deprecated.  Use state_is_tuple=True.\n",
      "\n",
      "WARNING: The TensorFlow contrib module will not be included in TensorFlow 2.0.\n",
      "For more information, please see:\n",
      "  * https://github.com/tensorflow/community/blob/master/rfcs/20180907-contrib-sunset.md\n",
      "  * https://github.com/tensorflow/addons\n",
      "If you depend on functionality not listed there, please file an issue.\n",
      "\n",
      "WARNING:tensorflow:From <ipython-input-19-1743d3e5852e>:25: bidirectional_dynamic_rnn (from tensorflow.python.ops.rnn) is deprecated and will be removed in a future version.\n",
      "Instructions for updating:\n",
      "Please use `keras.layers.Bidirectional(keras.layers.RNN(cell))`, which is equivalent to this API\n",
      "WARNING:tensorflow:From /usr/local/lib/python3.6/site-packages/tensorflow/python/ops/rnn.py:443: dynamic_rnn (from tensorflow.python.ops.rnn) is deprecated and will be removed in a future version.\n",
      "Instructions for updating:\n",
      "Please use `keras.layers.RNN(cell)`, which is equivalent to this API\n",
      "WARNING:tensorflow:From /usr/local/lib/python3.6/site-packages/tensorflow/python/ops/tensor_array_ops.py:162: colocate_with (from tensorflow.python.framework.ops) is deprecated and will be removed in a future version.\n",
      "Instructions for updating:\n",
      "Colocations handled automatically by placer.\n",
      "WARNING:tensorflow:From /usr/local/lib/python3.6/site-packages/tensorflow/python/ops/rnn_cell_impl.py:1259: calling dropout (from tensorflow.python.ops.nn_ops) with keep_prob is deprecated and will be removed in a future version.\n",
      "Instructions for updating:\n",
      "Please use `rate` instead of `keep_prob`. Rate should be set to `rate = 1 - keep_prob`.\n"
     ]
    }
   ],
   "source": [
    "def lstm_cell(n_neurons):\n",
    "            return tf.nn.rnn_cell.LSTMCell(n_neurons, state_is_tuple = False)\n",
    "\n",
    "backward_rnn_cells = tf.nn.rnn_cell.MultiRNNCell(\n",
    "    [lstm_cell(n_neurons) for _ in range(n_layers)],\n",
    "    state_is_tuple = False,\n",
    ")\n",
    "forward_rnn_cells = tf.nn.rnn_cell.MultiRNNCell(\n",
    "    [lstm_cell(n_neurons) for _ in range(n_layers)],\n",
    "    state_is_tuple = False,\n",
    ")\n",
    "X = tf.placeholder(tf.float32, (None, n_steps,n_inputs))\n",
    "y = tf.placeholder(tf.float32, (None, n_outputs))\n",
    "drop_backward = tf.contrib.rnn.DropoutWrapper(\n",
    "    backward_rnn_cells, output_keep_prob = forget_bias\n",
    ")\n",
    "forward_backward = tf.contrib.rnn.DropoutWrapper(\n",
    "    forward_rnn_cells, output_keep_prob = forget_bias\n",
    ")\n",
    "\n",
    "outputs, last_state = tf.nn.bidirectional_dynamic_rnn(\n",
    "    forward_backward,\n",
    "    drop_backward,\n",
    "    X,\n",
    "    dtype = tf.float32,\n",
    ")"
   ]
  },
  {
   "cell_type": "code",
   "execution_count": 20,
   "metadata": {
    "scrolled": true
   },
   "outputs": [
    {
     "name": "stdout",
     "output_type": "stream",
     "text": [
      "WARNING:tensorflow:From <ipython-input-20-5487492d99d5>:2: dense (from tensorflow.python.layers.core) is deprecated and will be removed in a future version.\n",
      "Instructions for updating:\n",
      "Use keras.layers.dense instead.\n"
     ]
    }
   ],
   "source": [
    "outputs = tf.concat(outputs, 2)\n",
    "logits = tf.layers.dense(outputs, n_outputs)\n",
    "outputs = tf.reshape(logits, [-1, n_steps, n_outputs])\n",
    "outputs = outputs[:,n_steps-1,:] "
   ]
  },
  {
   "cell_type": "code",
   "execution_count": 21,
   "metadata": {},
   "outputs": [],
   "source": [
    "loss = tf.reduce_mean(tf.square(y - outputs)[:,index_to_begin:index_to_stop+1])\n",
    "optimizer = tf.train.AdamOptimizer(learning_rate=learning_rate) \n",
    "training_op = optimizer.minimize(loss)"
   ]
  },
  {
   "cell_type": "code",
   "execution_count": 22,
   "metadata": {
    "scrolled": true
   },
   "outputs": [
    {
     "name": "stdout",
     "output_type": "stream",
     "text": [
      "0 epochs: MSE train/valid = 0.179046/0.632483\n",
      "0 epochs: MSE train/valid = 0.022928/0.071273\n",
      "1 epochs: MSE train/valid = 0.017445/0.050168\n",
      "2 epochs: MSE train/valid = 0.015345/0.047897\n",
      "3 epochs: MSE train/valid = 0.012317/0.042365\n",
      "4 epochs: MSE train/valid = 0.010718/0.037272\n",
      "5 epochs: MSE train/valid = 0.010104/0.034190\n",
      "6 epochs: MSE train/valid = 0.010006/0.034138\n",
      "7 epochs: MSE train/valid = 0.008748/0.029072\n",
      "8 epochs: MSE train/valid = 0.008564/0.026479\n",
      "9 epochs: MSE train/valid = 0.008248/0.027253\n"
     ]
    }
   ],
   "source": [
    "# run graph\n",
    "with tf.Session() as sess: \n",
    "    sess.run(tf.global_variables_initializer())\n",
    "    for iteration in range(int(n_epochs*train_set_size/batch_size)):\n",
    "       \n",
    "        x_batch, y_batch = get_next_batch(batch_size) # fetch the next training batch \n",
    "        sess.run(training_op, feed_dict={X: x_batch, y: y_batch})\n",
    "        if iteration % int(train_set_size/batch_size) == 0:\n",
    "            mse_train = loss.eval(feed_dict={X: x_train, y: y_train}) \n",
    "            mse_valid = loss.eval(feed_dict={X: x_valid, y: y_valid}) \n",
    "            print('%d epochs: MSE train/valid = %.6f/%.6f'%(\n",
    "                int(iteration*batch_size/train_set_size), mse_train, mse_valid))\n",
    "\n",
    "    y_train_pred = sess.run(outputs, feed_dict={X: x_train})\n",
    "    y_valid_pred = sess.run(outputs, feed_dict={X: x_valid})\n",
    "    y_test_pred = sess.run(outputs, feed_dict={X: x_test})"
   ]
  },
  {
   "cell_type": "code",
   "execution_count": 23,
   "metadata": {},
   "outputs": [],
   "source": [
    "for i in range(y_train.shape[1]):\n",
    "    y_train[:,i] = min_max_scaler[i].inverse_transform(y_train[:,i].reshape(1,-1))\n",
    "    y_train_pred[:,i] = min_max_scaler[i].inverse_transform(y_train_pred[:,i].reshape(1,-1))\n",
    "    y_valid[:,i] = min_max_scaler[i].inverse_transform(y_valid[:,i].reshape(1,-1))\n",
    "    y_valid_pred[:,i] = min_max_scaler[i].inverse_transform(y_valid_pred[:,i].reshape(1,-1))\n",
    "    y_test[:,i] = min_max_scaler[i].inverse_transform(y_test[:,i].reshape(1,-1))\n",
    "    y_test_pred[:,i] = min_max_scaler[i].inverse_transform(y_test_pred[:,i].reshape(1,-1))"
   ]
  },
  {
   "cell_type": "code",
   "execution_count": 24,
   "metadata": {},
   "outputs": [
    {
     "name": "stdout",
     "output_type": "stream",
     "text": [
      "correct sign prediction for close - (close-1) price for train/valid/test: 0.50/0.52/0.55\n"
     ]
    },
    {
     "data": {
      "image/png": "[encoded data removed]",
      "text/plain": [
       "<Figure size 1080x360 with 2 Axes>"
      ]
     },
     "metadata": {
      "needs_background": "light"
     },
     "output_type": "display_data"
    }
   ],
   "source": [
    "# Remember to change this!!!\n",
    "ft = 27  # 24=open, 25=high, 26=low, close=27\n",
    "\n",
    "## show predictions\n",
    "plt.figure(figsize=(15, 5));\n",
    "plt.subplot(1,2,1);\n",
    "\n",
    "plt.plot(np.arange(y_train.shape[0]), y_train[:,ft], color='blue', label='train target')\n",
    "\n",
    "plt.plot(np.arange(y_train.shape[0], y_train.shape[0] + y_valid.shape[0]), y_valid[:,ft],\n",
    "         color='gray', label='valid target')\n",
    "\n",
    "plt.plot(np.arange(y_train.shape[0]+y_valid.shape[0],\n",
    "                   y_train.shape[0]+y_test.shape[0]+y_test.shape[0]),\n",
    "         y_test[:,ft], color='black', label='test target')\n",
    "\n",
    "plt.plot(np.arange(y_train_pred.shape[0]),y_train_pred[:,ft], color='red',\n",
    "         label='train prediction')\n",
    "\n",
    "plt.plot(np.arange(y_train_pred.shape[0], y_train_pred.shape[0]+y_valid_pred.shape[0]),\n",
    "         y_valid_pred[:,ft], color='orange', label='valid prediction')\n",
    "\n",
    "plt.plot(np.arange(y_train_pred.shape[0]+y_valid_pred.shape[0],\n",
    "                   y_train_pred.shape[0]+y_valid_pred.shape[0]+y_test_pred.shape[0]),\n",
    "         y_test_pred[:,ft], color='green', label='test prediction')\n",
    "\n",
    "plt.title('Past and Future stock prices')\n",
    "plt.xlabel('Time [days]')\n",
    "plt.ylabel('Price')\n",
    "plt.legend(loc='best');\n",
    "\n",
    "plt.subplot(1,2,2);\n",
    "\n",
    "plt.plot(np.arange(y_train.shape[0], y_train.shape[0]+y_test.shape[0]),\n",
    "         y_test[:,ft], color='black', label='test target')\n",
    "\n",
    "plt.plot(np.arange(y_train_pred.shape[0], y_train_pred.shape[0]+y_test_pred.shape[0]),\n",
    "                  y_test_pred[:,ft], color='green', label='test prediction')\n",
    "\n",
    "plt.title('Future Stock Prices')\n",
    "plt.xlabel('Time [days]')\n",
    "plt.ylabel('Price')\n",
    "plt.legend(loc='best');\n",
    "\n",
    "\n",
    "#adjust the columns of the variables in order to get the right accuracy prediction. \n",
    "sign_correct_train = np.sum(np.equal(np.sign(y_train[1:,ft]-y_train[:len(y_train)-1,ft]),\n",
    "            np.sign(y_train_pred[1:,ft]-y_train_pred[:len(y_train_pred)-1,ft])).astype(int))\n",
    "corr_price_development_train = sign_correct_train / y_train.shape[0]\n",
    "\n",
    "sign_correct_valid = np.sum(np.equal(np.sign(y_valid[1:,ft]-y_valid[:len(y_valid)-1,ft]),\n",
    "            np.sign(y_valid_pred[1:,ft]-y_valid_pred[:len(y_valid_pred)-1,ft])).astype(int))\n",
    "corr_price_development_valid = sign_correct_valid / y_valid.shape[0]\n",
    "\n",
    "sign_correct_test = np.sum(np.equal(np.sign(y_test[1:,ft]-y_test[:len(y_test)-1,ft]),\n",
    "            np.sign(y_test_pred[1:,ft]-y_test_pred[:len(y_test_pred)-1,ft])).astype(int))\n",
    "corr_price_development_test = sign_correct_test / y_test.shape[0]\n",
    "\n",
    "print('correct sign prediction for close - (close-1) price for train/valid/test: %.2f/%.2f/%.2f'%(\n",
    "    corr_price_development_train, corr_price_development_valid, corr_price_development_test))\n",
    "plt.show()"
   ]
  },
  {
   "cell_type": "code",
   "execution_count": 25,
   "metadata": {},
   "outputs": [
    {
     "name": "stdout",
     "output_type": "stream",
     "text": [
      "0.7674784114729761\n",
      "0.6258605795002041\n",
      "0.14324485626489739\n"
     ]
    }
   ],
   "source": [
    "#Test the significance level of our correct sign prediction\n",
    "significance_train = scipy.stats.binom_test(sign_correct_train, n=y_train.shape[0], p=0.50)\n",
    "significance_valid = scipy.stats.binom_test(sign_correct_valid, n=y_valid.shape[0], p=0.50)\n",
    "significance_test = scipy.stats.binom_test(sign_correct_test, n=y_test.shape[0], p=0.50)\n",
    "print(significance_train)\n",
    "print(significance_valid)\n",
    "print(significance_test)"
   ]
  },
  {
   "cell_type": "code",
   "execution_count": 26,
   "metadata": {},
   "outputs": [
    {
     "name": "stdout",
     "output_type": "stream",
     "text": [
      "MAPE for train/validation/test set : 0.977959/0.980210/0.975666\n"
     ]
    }
   ],
   "source": [
    "#Calculate MAPE\n",
    "index=27\n",
    "mape_train = np.mean(abs(np.divide(y_train_pred[:,index],y_train[:,index])))\n",
    "mape_valid = np.mean(abs(np.divide(y_valid_pred[:,index], y_valid[:,index])))\n",
    "mape_test = np.mean(abs(np.divide(y_test_pred[:,index], y_test[:,index])))\n",
    "print('MAPE for train/validation/test set : %.6f/%.6f/%.6f'%(mape_train, mape_valid, mape_test))"
   ]
  },
  {
   "cell_type": "code",
   "execution_count": 27,
   "metadata": {},
   "outputs": [],
   "source": [
    "#Store the actual values and predictions in a dataframe and export\n",
    "\n",
    "log_files_path_export = 'Data/Output/'\n",
    "export_pred = np.concatenate([y_train_pred, y_valid_pred, y_test_pred])\n",
    "export_pred_df = pd.DataFrame(export_pred)\n",
    "export_pred_df.to_csv(log_files_path_export + 'BLSTM_NLP24.csv')\n",
    "\n",
    "\n",
    "export_actual =  np.concatenate([y_train, y_valid, y_test])\n",
    "export_actual_df = pd.DataFrame(export_actual)\n",
    "export_actual_df.to_csv(log_files_path_export + 'actual_BLSTM_NLP24.csv')"
   ]
  },
  {
   "cell_type": "code",
   "execution_count": null,
   "metadata": {},
   "outputs": [],
   "source": []
  }
 ],
 "metadata": {
  "kernelspec": {
   "display_name": "Python 3",
   "language": "python",
   "name": "python3"
  },
  "language_info": {
   "codemirror_mode": {
    "name": "ipython",
    "version": 3
   },
   "file_extension": ".py",
   "mimetype": "text/x-python",
   "name": "python",
   "nbconvert_exporter": "python",
   "pygments_lexer": "ipython3",
   "version": "3.6.3"
  }
 },
 "nbformat": 4,
 "nbformat_minor": 2
}
