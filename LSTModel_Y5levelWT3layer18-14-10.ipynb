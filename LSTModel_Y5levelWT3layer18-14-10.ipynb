{
 "cells": [
  {
   "cell_type": "markdown",
   "metadata": {},
   "source": [
    "## Import Package"
   ]
  },
  {
   "cell_type": "code",
   "execution_count": 241,
   "metadata": {},
   "outputs": [],
   "source": [
    "import numpy as np\n",
    "import pandas as pd\n",
    "import math\n",
    "import sklearn\n",
    "import sklearn.preprocessing\n",
    "import datetime\n",
    "import os\n",
    "import matplotlib.pyplot as plt\n",
    "import tensorflow as tf\n",
    "import scipy"
   ]
  },
  {
   "cell_type": "markdown",
   "metadata": {},
   "source": [
    "## Load Dataset"
   ]
  },
  {
   "cell_type": "code",
   "execution_count": 242,
   "metadata": {},
   "outputs": [
    {
     "data": {
      "text/plain": [
       "(2079, 24)"
      ]
     },
     "execution_count": 242,
     "metadata": {},
     "output_type": "execute_result"
    }
   ],
   "source": [
    "log_files_path_data = 'Data/'\n",
    "dfmain = pd.read_csv(log_files_path_data + \"Data_merged.csv\",index_col=0)\n",
    "dfmain.shape"
   ]
  },
  {
   "cell_type": "code",
   "execution_count": 243,
   "metadata": {},
   "outputs": [
    {
     "data": {
      "text/plain": [
       "0    1284.91\n",
       "1    1261.52\n",
       "2    1262.90\n",
       "3    1252.31\n",
       "4    1273.70\n",
       "Name: Close Price, dtype: float64"
      ]
     },
     "execution_count": 243,
     "metadata": {},
     "output_type": "execute_result"
    }
   ],
   "source": [
    "dfmain[\"Close Price\"].head()"
   ]
  },
  {
   "cell_type": "code",
   "execution_count": 244,
   "metadata": {},
   "outputs": [],
   "source": [
    "Close = dfmain[\"Close Price\"]\n",
    "Open = dfmain[\"Open Price\"]\n",
    "Low = dfmain[\"Low Price\"]\n",
    "High = dfmain[\"High Price\"]"
   ]
  },
  {
   "cell_type": "code",
   "execution_count": 245,
   "metadata": {},
   "outputs": [],
   "source": [
    "# import all stock prices \n",
    "# ddf = pd.read_csv(\"SP500-2016.csv\", index_col = 0)\n",
    "# df.info()"
   ]
  },
  {
   "cell_type": "code",
   "execution_count": 246,
   "metadata": {},
   "outputs": [],
   "source": [
    "# df1 = pd.read_csv(\"Y1layer13-9.csv\",header=None)\n",
    "# df1.shape"
   ]
  },
  {
   "cell_type": "code",
   "execution_count": 247,
   "metadata": {},
   "outputs": [],
   "source": [
    "# df2 = pd.read_csv(\"Y3layer17-13-9.csv\",header=None)\n",
    "# df2.shape"
   ]
  },
  {
   "cell_type": "code",
   "execution_count": 248,
   "metadata": {},
   "outputs": [],
   "source": [
    "# df3 = pd.read_csv(\"Y3layer18-14-10.csv\",header=None)\n",
    "# df3.shape"
   ]
  },
  {
   "cell_type": "code",
   "execution_count": 249,
   "metadata": {},
   "outputs": [],
   "source": [
    "# df4 = pd.read_csv(\"Y5levelWT1layer13-9.csv\",header=None)\n",
    "# df4.shape"
   ]
  },
  {
   "cell_type": "code",
   "execution_count": 250,
   "metadata": {},
   "outputs": [],
   "source": [
    "# df5 = pd.read_csv(\"Y5levelWT3layer17-13-9.csv\",header=None)\n",
    "# df5.shape\n"
   ]
  },
  {
   "cell_type": "code",
   "execution_count": 251,
   "metadata": {},
   "outputs": [
    {
     "data": {
      "text/plain": [
       "(2079, 10)"
      ]
     },
     "execution_count": 251,
     "metadata": {},
     "output_type": "execute_result"
    }
   ],
   "source": [
    "df6 = pd.read_csv(log_files_path_data + \"Y5levelWT3layer18-14-10.csv\",header=None)\n",
    "df6.shape"
   ]
  },
  {
   "cell_type": "code",
   "execution_count": 252,
   "metadata": {},
   "outputs": [],
   "source": [
    "df6[10] = Close\n",
    "df6[11] = Open\n",
    "df6[12] = Low\n",
    "df6[13] = High"
   ]
  },
  {
   "cell_type": "code",
   "execution_count": 253,
   "metadata": {},
   "outputs": [
    {
     "data": {
      "text/html": [
       "<div>\n",
       "<style scoped>\n",
       "    .dataframe tbody tr th:only-of-type {\n",
       "        vertical-align: middle;\n",
       "    }\n",
       "\n",
       "    .dataframe tbody tr th {\n",
       "        vertical-align: top;\n",
       "    }\n",
       "\n",
       "    .dataframe thead th {\n",
       "        text-align: right;\n",
       "    }\n",
       "</style>\n",
       "<table border=\"1\" class=\"dataframe\">\n",
       "  <thead>\n",
       "    <tr style=\"text-align: right;\">\n",
       "      <th></th>\n",
       "      <th>0</th>\n",
       "      <th>1</th>\n",
       "      <th>2</th>\n",
       "      <th>3</th>\n",
       "      <th>4</th>\n",
       "      <th>5</th>\n",
       "      <th>6</th>\n",
       "      <th>7</th>\n",
       "      <th>8</th>\n",
       "      <th>9</th>\n",
       "      <th>10</th>\n",
       "      <th>11</th>\n",
       "      <th>12</th>\n",
       "      <th>13</th>\n",
       "    </tr>\n",
       "  </thead>\n",
       "  <tbody>\n",
       "    <tr>\n",
       "      <th>0</th>\n",
       "      <td>0.504333</td>\n",
       "      <td>0.020622</td>\n",
       "      <td>0.091492</td>\n",
       "      <td>0.994347</td>\n",
       "      <td>0.062468</td>\n",
       "      <td>0.753422</td>\n",
       "      <td>0.052363</td>\n",
       "      <td>0.081885</td>\n",
       "      <td>0.827858</td>\n",
       "      <td>0.050652</td>\n",
       "      <td>1284.91</td>\n",
       "      <td>1276.69</td>\n",
       "      <td>1260.68</td>\n",
       "      <td>1285.31</td>\n",
       "    </tr>\n",
       "    <tr>\n",
       "      <th>1</th>\n",
       "      <td>0.501698</td>\n",
       "      <td>0.026658</td>\n",
       "      <td>0.115132</td>\n",
       "      <td>0.990695</td>\n",
       "      <td>0.081316</td>\n",
       "      <td>0.703286</td>\n",
       "      <td>0.069166</td>\n",
       "      <td>0.108327</td>\n",
       "      <td>0.810352</td>\n",
       "      <td>0.061496</td>\n",
       "      <td>1261.52</td>\n",
       "      <td>1285.82</td>\n",
       "      <td>1261.51</td>\n",
       "      <td>1292.17</td>\n",
       "    </tr>\n",
       "    <tr>\n",
       "      <th>2</th>\n",
       "      <td>0.485075</td>\n",
       "      <td>0.060177</td>\n",
       "      <td>0.152833</td>\n",
       "      <td>0.973803</td>\n",
       "      <td>0.133416</td>\n",
       "      <td>0.658505</td>\n",
       "      <td>0.111763</td>\n",
       "      <td>0.168914</td>\n",
       "      <td>0.781748</td>\n",
       "      <td>0.100574</td>\n",
       "      <td>1262.90</td>\n",
       "      <td>1262.96</td>\n",
       "      <td>1252.01</td>\n",
       "      <td>1271.48</td>\n",
       "    </tr>\n",
       "    <tr>\n",
       "      <th>3</th>\n",
       "      <td>0.464489</td>\n",
       "      <td>0.116995</td>\n",
       "      <td>0.182066</td>\n",
       "      <td>0.944323</td>\n",
       "      <td>0.187973</td>\n",
       "      <td>0.661275</td>\n",
       "      <td>0.156666</td>\n",
       "      <td>0.228894</td>\n",
       "      <td>0.752713</td>\n",
       "      <td>0.158890</td>\n",
       "      <td>1252.31</td>\n",
       "      <td>1262.90</td>\n",
       "      <td>1240.68</td>\n",
       "      <td>1273.95</td>\n",
       "    </tr>\n",
       "    <tr>\n",
       "      <th>4</th>\n",
       "      <td>0.442971</td>\n",
       "      <td>0.214841</td>\n",
       "      <td>0.237523</td>\n",
       "      <td>0.874115</td>\n",
       "      <td>0.255235</td>\n",
       "      <td>0.647284</td>\n",
       "      <td>0.220174</td>\n",
       "      <td>0.314977</td>\n",
       "      <td>0.713180</td>\n",
       "      <td>0.250511</td>\n",
       "      <td>1273.70</td>\n",
       "      <td>1251.84</td>\n",
       "      <td>1242.84</td>\n",
       "      <td>1274.17</td>\n",
       "    </tr>\n",
       "  </tbody>\n",
       "</table>\n",
       "</div>"
      ],
      "text/plain": [
       "         0         1         2         3         4         5         6   \\\n",
       "0  0.504333  0.020622  0.091492  0.994347  0.062468  0.753422  0.052363   \n",
       "1  0.501698  0.026658  0.115132  0.990695  0.081316  0.703286  0.069166   \n",
       "2  0.485075  0.060177  0.152833  0.973803  0.133416  0.658505  0.111763   \n",
       "3  0.464489  0.116995  0.182066  0.944323  0.187973  0.661275  0.156666   \n",
       "4  0.442971  0.214841  0.237523  0.874115  0.255235  0.647284  0.220174   \n",
       "\n",
       "         7         8         9        10       11       12       13  \n",
       "0  0.081885  0.827858  0.050652  1284.91  1276.69  1260.68  1285.31  \n",
       "1  0.108327  0.810352  0.061496  1261.52  1285.82  1261.51  1292.17  \n",
       "2  0.168914  0.781748  0.100574  1262.90  1262.96  1252.01  1271.48  \n",
       "3  0.228894  0.752713  0.158890  1252.31  1262.90  1240.68  1273.95  \n",
       "4  0.314977  0.713180  0.250511  1273.70  1251.84  1242.84  1274.17  "
      ]
     },
     "execution_count": 253,
     "metadata": {},
     "output_type": "execute_result"
    }
   ],
   "source": [
    "## DataFrame \"Y1layer13-9.csv\" with Close \n",
    "df6.head() "
   ]
  },
  {
   "cell_type": "code",
   "execution_count": 254,
   "metadata": {},
   "outputs": [
    {
     "data": {
      "text/plain": [
       "(2079, 14)"
      ]
     },
     "execution_count": 254,
     "metadata": {},
     "output_type": "execute_result"
    }
   ],
   "source": [
    "df6.shape"
   ]
  },
  {
   "cell_type": "markdown",
   "metadata": {},
   "source": [
    "## Modify Dataset here--- Last column is \"Close\""
   ]
  },
  {
   "cell_type": "code",
   "execution_count": 255,
   "metadata": {},
   "outputs": [],
   "source": [
    "df = df6.copy() # Copy from the input dataset\n"
   ]
  },
  {
   "cell_type": "code",
   "execution_count": 256,
   "metadata": {},
   "outputs": [],
   "source": [
    "# split data in 80%/10%/10% train/validation/test sets\n",
    "valid_set_size_percentage = 10 \n",
    "test_set_size_percentage = 10 "
   ]
  },
  {
   "cell_type": "code",
   "execution_count": 257,
   "metadata": {},
   "outputs": [
    {
     "data": {
      "text/html": [
       "<div>\n",
       "<style scoped>\n",
       "    .dataframe tbody tr th:only-of-type {\n",
       "        vertical-align: middle;\n",
       "    }\n",
       "\n",
       "    .dataframe tbody tr th {\n",
       "        vertical-align: top;\n",
       "    }\n",
       "\n",
       "    .dataframe thead th {\n",
       "        text-align: right;\n",
       "    }\n",
       "</style>\n",
       "<table border=\"1\" class=\"dataframe\">\n",
       "  <thead>\n",
       "    <tr style=\"text-align: right;\">\n",
       "      <th></th>\n",
       "      <th>0</th>\n",
       "      <th>1</th>\n",
       "      <th>2</th>\n",
       "      <th>3</th>\n",
       "      <th>4</th>\n",
       "      <th>5</th>\n",
       "      <th>6</th>\n",
       "      <th>7</th>\n",
       "      <th>8</th>\n",
       "      <th>9</th>\n",
       "      <th>10</th>\n",
       "      <th>11</th>\n",
       "      <th>12</th>\n",
       "      <th>13</th>\n",
       "    </tr>\n",
       "  </thead>\n",
       "  <tbody>\n",
       "    <tr>\n",
       "      <th>2074</th>\n",
       "      <td>0.052820</td>\n",
       "      <td>0.989874</td>\n",
       "      <td>0.999818</td>\n",
       "      <td>0.000755</td>\n",
       "      <td>0.971578</td>\n",
       "      <td>0.474959</td>\n",
       "      <td>0.999487</td>\n",
       "      <td>0.998146</td>\n",
       "      <td>0.002750</td>\n",
       "      <td>0.927974</td>\n",
       "      <td>2146.10</td>\n",
       "      <td>2158.54</td>\n",
       "      <td>2145.04</td>\n",
       "      <td>2158.54</td>\n",
       "    </tr>\n",
       "    <tr>\n",
       "      <th>2075</th>\n",
       "      <td>0.151073</td>\n",
       "      <td>0.966141</td>\n",
       "      <td>0.998049</td>\n",
       "      <td>0.005539</td>\n",
       "      <td>0.972198</td>\n",
       "      <td>0.501106</td>\n",
       "      <td>0.998768</td>\n",
       "      <td>0.994376</td>\n",
       "      <td>0.011879</td>\n",
       "      <td>0.883173</td>\n",
       "      <td>2159.93</td>\n",
       "      <td>2146.04</td>\n",
       "      <td>2141.55</td>\n",
       "      <td>2161.13</td>\n",
       "    </tr>\n",
       "    <tr>\n",
       "      <th>2076</th>\n",
       "      <td>0.172801</td>\n",
       "      <td>0.945798</td>\n",
       "      <td>0.995873</td>\n",
       "      <td>0.009931</td>\n",
       "      <td>0.986773</td>\n",
       "      <td>0.531893</td>\n",
       "      <td>0.996959</td>\n",
       "      <td>0.994175</td>\n",
       "      <td>0.019080</td>\n",
       "      <td>0.881205</td>\n",
       "      <td>2171.37</td>\n",
       "      <td>2161.85</td>\n",
       "      <td>2151.79</td>\n",
       "      <td>2172.40</td>\n",
       "    </tr>\n",
       "    <tr>\n",
       "      <th>2077</th>\n",
       "      <td>0.248866</td>\n",
       "      <td>0.895797</td>\n",
       "      <td>0.984585</td>\n",
       "      <td>0.024850</td>\n",
       "      <td>0.977304</td>\n",
       "      <td>0.540552</td>\n",
       "      <td>0.993021</td>\n",
       "      <td>0.986591</td>\n",
       "      <td>0.044517</td>\n",
       "      <td>0.850514</td>\n",
       "      <td>2151.13</td>\n",
       "      <td>2168.90</td>\n",
       "      <td>2145.20</td>\n",
       "      <td>2172.67</td>\n",
       "    </tr>\n",
       "    <tr>\n",
       "      <th>2078</th>\n",
       "      <td>0.269670</td>\n",
       "      <td>0.677560</td>\n",
       "      <td>0.999847</td>\n",
       "      <td>0.002922</td>\n",
       "      <td>0.997865</td>\n",
       "      <td>0.426223</td>\n",
       "      <td>0.995758</td>\n",
       "      <td>0.999581</td>\n",
       "      <td>0.009800</td>\n",
       "      <td>0.970643</td>\n",
       "      <td>2168.27</td>\n",
       "      <td>2156.51</td>\n",
       "      <td>2156.51</td>\n",
       "      <td>2175.30</td>\n",
       "    </tr>\n",
       "  </tbody>\n",
       "</table>\n",
       "</div>"
      ],
      "text/plain": [
       "            0         1         2         3         4         5         6   \\\n",
       "2074  0.052820  0.989874  0.999818  0.000755  0.971578  0.474959  0.999487   \n",
       "2075  0.151073  0.966141  0.998049  0.005539  0.972198  0.501106  0.998768   \n",
       "2076  0.172801  0.945798  0.995873  0.009931  0.986773  0.531893  0.996959   \n",
       "2077  0.248866  0.895797  0.984585  0.024850  0.977304  0.540552  0.993021   \n",
       "2078  0.269670  0.677560  0.999847  0.002922  0.997865  0.426223  0.995758   \n",
       "\n",
       "            7         8         9        10       11       12       13  \n",
       "2074  0.998146  0.002750  0.927974  2146.10  2158.54  2145.04  2158.54  \n",
       "2075  0.994376  0.011879  0.883173  2159.93  2146.04  2141.55  2161.13  \n",
       "2076  0.994175  0.019080  0.881205  2171.37  2161.85  2151.79  2172.40  \n",
       "2077  0.986591  0.044517  0.850514  2151.13  2168.90  2145.20  2172.67  \n",
       "2078  0.999581  0.009800  0.970643  2168.27  2156.51  2156.51  2175.30  "
      ]
     },
     "execution_count": 257,
     "metadata": {},
     "output_type": "execute_result"
    }
   ],
   "source": [
    "# number of different stocks: here is only one index of S&P 500\n",
    "#print('\\nnumber of different stocks: ', len(list(set(df.symbol))))\n",
    "#print(list(set(df.symbol))[:10])\n",
    "df.tail()"
   ]
  },
  {
   "cell_type": "code",
   "execution_count": 258,
   "metadata": {},
   "outputs": [
    {
     "data": {
      "text/html": [
       "<div>\n",
       "<style scoped>\n",
       "    .dataframe tbody tr th:only-of-type {\n",
       "        vertical-align: middle;\n",
       "    }\n",
       "\n",
       "    .dataframe tbody tr th {\n",
       "        vertical-align: top;\n",
       "    }\n",
       "\n",
       "    .dataframe thead th {\n",
       "        text-align: right;\n",
       "    }\n",
       "</style>\n",
       "<table border=\"1\" class=\"dataframe\">\n",
       "  <thead>\n",
       "    <tr style=\"text-align: right;\">\n",
       "      <th></th>\n",
       "      <th>0</th>\n",
       "      <th>1</th>\n",
       "      <th>2</th>\n",
       "      <th>3</th>\n",
       "      <th>4</th>\n",
       "      <th>5</th>\n",
       "      <th>6</th>\n",
       "      <th>7</th>\n",
       "      <th>8</th>\n",
       "      <th>9</th>\n",
       "      <th>10</th>\n",
       "      <th>11</th>\n",
       "      <th>12</th>\n",
       "      <th>13</th>\n",
       "    </tr>\n",
       "  </thead>\n",
       "  <tbody>\n",
       "    <tr>\n",
       "      <th>count</th>\n",
       "      <td>2079.000000</td>\n",
       "      <td>2079.000000</td>\n",
       "      <td>2079.000000</td>\n",
       "      <td>2079.000000</td>\n",
       "      <td>2079.000000</td>\n",
       "      <td>2079.000000</td>\n",
       "      <td>2079.000000</td>\n",
       "      <td>2079.000000</td>\n",
       "      <td>2.079000e+03</td>\n",
       "      <td>2.079000e+03</td>\n",
       "      <td>2079.000000</td>\n",
       "      <td>2079.000000</td>\n",
       "      <td>2079.000000</td>\n",
       "      <td>2079.000000</td>\n",
       "    </tr>\n",
       "    <tr>\n",
       "      <th>mean</th>\n",
       "      <td>0.448633</td>\n",
       "      <td>0.476277</td>\n",
       "      <td>0.458049</td>\n",
       "      <td>0.536627</td>\n",
       "      <td>0.479204</td>\n",
       "      <td>0.563948</td>\n",
       "      <td>0.463660</td>\n",
       "      <td>0.501352</td>\n",
       "      <td>5.359262e-01</td>\n",
       "      <td>5.311102e-01</td>\n",
       "      <td>1510.099153</td>\n",
       "      <td>1509.691318</td>\n",
       "      <td>1499.889067</td>\n",
       "      <td>1518.775926</td>\n",
       "    </tr>\n",
       "    <tr>\n",
       "      <th>std</th>\n",
       "      <td>0.356879</td>\n",
       "      <td>0.427840</td>\n",
       "      <td>0.454359</td>\n",
       "      <td>0.424406</td>\n",
       "      <td>0.411453</td>\n",
       "      <td>0.180330</td>\n",
       "      <td>0.449585</td>\n",
       "      <td>0.423455</td>\n",
       "      <td>4.268692e-01</td>\n",
       "      <td>3.498242e-01</td>\n",
       "      <td>414.400699</td>\n",
       "      <td>414.273657</td>\n",
       "      <td>414.867564</td>\n",
       "      <td>413.677503</td>\n",
       "    </tr>\n",
       "    <tr>\n",
       "      <th>min</th>\n",
       "      <td>0.000000</td>\n",
       "      <td>0.000000</td>\n",
       "      <td>0.000000</td>\n",
       "      <td>0.000000</td>\n",
       "      <td>0.000000</td>\n",
       "      <td>0.018820</td>\n",
       "      <td>0.000000</td>\n",
       "      <td>0.000000</td>\n",
       "      <td>1.440392e-08</td>\n",
       "      <td>1.381651e-13</td>\n",
       "      <td>676.530000</td>\n",
       "      <td>679.280000</td>\n",
       "      <td>666.790000</td>\n",
       "      <td>695.270000</td>\n",
       "    </tr>\n",
       "    <tr>\n",
       "      <th>25%</th>\n",
       "      <td>0.104377</td>\n",
       "      <td>0.011432</td>\n",
       "      <td>0.001587</td>\n",
       "      <td>0.028218</td>\n",
       "      <td>0.032800</td>\n",
       "      <td>0.451564</td>\n",
       "      <td>0.004448</td>\n",
       "      <td>0.027546</td>\n",
       "      <td>2.083620e-02</td>\n",
       "      <td>2.010603e-01</td>\n",
       "      <td>1173.705000</td>\n",
       "      <td>1173.535000</td>\n",
       "      <td>1163.575000</td>\n",
       "      <td>1184.545000</td>\n",
       "    </tr>\n",
       "    <tr>\n",
       "      <th>50%</th>\n",
       "      <td>0.383275</td>\n",
       "      <td>0.388727</td>\n",
       "      <td>0.237523</td>\n",
       "      <td>0.644120</td>\n",
       "      <td>0.418546</td>\n",
       "      <td>0.580291</td>\n",
       "      <td>0.299352</td>\n",
       "      <td>0.453056</td>\n",
       "      <td>6.756100e-01</td>\n",
       "      <td>5.646396e-01</td>\n",
       "      <td>1402.890000</td>\n",
       "      <td>1402.580000</td>\n",
       "      <td>1396.560000</td>\n",
       "      <td>1407.750000</td>\n",
       "    </tr>\n",
       "    <tr>\n",
       "      <th>75%</th>\n",
       "      <td>0.805877</td>\n",
       "      <td>0.981591</td>\n",
       "      <td>0.998872</td>\n",
       "      <td>0.986468</td>\n",
       "      <td>0.967137</td>\n",
       "      <td>0.683531</td>\n",
       "      <td>0.993332</td>\n",
       "      <td>0.988503</td>\n",
       "      <td>9.781794e-01</td>\n",
       "      <td>8.693684e-01</td>\n",
       "      <td>1940.895000</td>\n",
       "      <td>1941.440000</td>\n",
       "      <td>1927.625000</td>\n",
       "      <td>1951.110000</td>\n",
       "    </tr>\n",
       "    <tr>\n",
       "      <th>max</th>\n",
       "      <td>1.000000</td>\n",
       "      <td>1.000000</td>\n",
       "      <td>1.000000</td>\n",
       "      <td>1.000000</td>\n",
       "      <td>1.000000</td>\n",
       "      <td>0.999369</td>\n",
       "      <td>1.000000</td>\n",
       "      <td>1.000000</td>\n",
       "      <td>1.000000e+00</td>\n",
       "      <td>1.000000e+00</td>\n",
       "      <td>2190.150000</td>\n",
       "      <td>2187.810000</td>\n",
       "      <td>2186.800000</td>\n",
       "      <td>2193.810000</td>\n",
       "    </tr>\n",
       "  </tbody>\n",
       "</table>\n",
       "</div>"
      ],
      "text/plain": [
       "                0            1            2            3            4   \\\n",
       "count  2079.000000  2079.000000  2079.000000  2079.000000  2079.000000   \n",
       "mean      0.448633     0.476277     0.458049     0.536627     0.479204   \n",
       "std       0.356879     0.427840     0.454359     0.424406     0.411453   \n",
       "min       0.000000     0.000000     0.000000     0.000000     0.000000   \n",
       "25%       0.104377     0.011432     0.001587     0.028218     0.032800   \n",
       "50%       0.383275     0.388727     0.237523     0.644120     0.418546   \n",
       "75%       0.805877     0.981591     0.998872     0.986468     0.967137   \n",
       "max       1.000000     1.000000     1.000000     1.000000     1.000000   \n",
       "\n",
       "                5            6            7             8             9   \\\n",
       "count  2079.000000  2079.000000  2079.000000  2.079000e+03  2.079000e+03   \n",
       "mean      0.563948     0.463660     0.501352  5.359262e-01  5.311102e-01   \n",
       "std       0.180330     0.449585     0.423455  4.268692e-01  3.498242e-01   \n",
       "min       0.018820     0.000000     0.000000  1.440392e-08  1.381651e-13   \n",
       "25%       0.451564     0.004448     0.027546  2.083620e-02  2.010603e-01   \n",
       "50%       0.580291     0.299352     0.453056  6.756100e-01  5.646396e-01   \n",
       "75%       0.683531     0.993332     0.988503  9.781794e-01  8.693684e-01   \n",
       "max       0.999369     1.000000     1.000000  1.000000e+00  1.000000e+00   \n",
       "\n",
       "                10           11           12           13  \n",
       "count  2079.000000  2079.000000  2079.000000  2079.000000  \n",
       "mean   1510.099153  1509.691318  1499.889067  1518.775926  \n",
       "std     414.400699   414.273657   414.867564   413.677503  \n",
       "min     676.530000   679.280000   666.790000   695.270000  \n",
       "25%    1173.705000  1173.535000  1163.575000  1184.545000  \n",
       "50%    1402.890000  1402.580000  1396.560000  1407.750000  \n",
       "75%    1940.895000  1941.440000  1927.625000  1951.110000  \n",
       "max    2190.150000  2187.810000  2186.800000  2193.810000  "
      ]
     },
     "execution_count": 258,
     "metadata": {},
     "output_type": "execute_result"
    }
   ],
   "source": [
    "df.describe()"
   ]
  },
  {
   "cell_type": "code",
   "execution_count": 259,
   "metadata": {},
   "outputs": [
    {
     "name": "stdout",
     "output_type": "stream",
     "text": [
      "<class 'pandas.core.frame.DataFrame'>\n",
      "RangeIndex: 2079 entries, 0 to 2078\n",
      "Data columns (total 14 columns):\n",
      "0     2079 non-null float64\n",
      "1     2079 non-null float64\n",
      "2     2079 non-null float64\n",
      "3     2079 non-null float64\n",
      "4     2079 non-null float64\n",
      "5     2079 non-null float64\n",
      "6     2079 non-null float64\n",
      "7     2079 non-null float64\n",
      "8     2079 non-null float64\n",
      "9     2079 non-null float64\n",
      "10    2079 non-null float64\n",
      "11    2079 non-null float64\n",
      "12    2079 non-null float64\n",
      "13    2079 non-null float64\n",
      "dtypes: float64(14)\n",
      "memory usage: 227.5 KB\n"
     ]
    }
   ],
   "source": [
    "df.info()"
   ]
  },
  {
   "cell_type": "code",
   "execution_count": 260,
   "metadata": {},
   "outputs": [
    {
     "data": {
      "image/png": "[encoded data removed]",
      "text/plain": [
       "<Figure size 1296x576 with 1 Axes>"
      ]
     },
     "metadata": {
      "needs_background": "light"
     },
     "output_type": "display_data"
    }
   ],
   "source": [
    "## This observation is only for raw_dataset, not from autoencoder result\n",
    "## 'Close Price', 'Open Price','High Price','Low Price',\n",
    "plt.figure(figsize=(18, 8));\n",
    "plt.subplot(1,2,1);\n",
    "plt.plot(dfmain['Open Price'], color='red', label='open',linewidth=0.5)\n",
    "plt.plot(dfmain['Low Price'], color='green', label='close',linewidth=0.5)\n",
    "plt.plot(dfmain['High Price'], color='blue', label='low',linewidth=0.5)\n",
    "plt.plot(dfmain['Close Price'], color='yellow', label='high',linewidth=0.5)\n",
    "plt.title('stock price')\n",
    "plt.xlabel('time [days]')\n",
    "plt.ylabel('price')\n",
    "plt.legend(loc='best')\n",
    "plt.show()"
   ]
  },
  {
   "cell_type": "code",
   "execution_count": 261,
   "metadata": {},
   "outputs": [
    {
     "data": {
      "image/png": "[encoded data removed]",
      "text/plain": [
       "<Figure size 432x288 with 1 Axes>"
      ]
     },
     "metadata": {
      "needs_background": "light"
     },
     "output_type": "display_data"
    }
   ],
   "source": [
    "# plt.subplot(1,2,2);\n",
    "plt.plot(dfmain[\"Volume\"], color='b', label='volume',linewidth=1)\n",
    "plt.title('stock volume')\n",
    "plt.xlabel('time [days]')\n",
    "plt.ylabel('volume')\n",
    "plt.legend(loc='best');\n",
    "plt.show()"
   ]
  },
  {
   "cell_type": "markdown",
   "metadata": {},
   "source": [
    "## 3. Manipulate data <a class=\"anchor\" id=\"3-bullet\"></a> "
   ]
  },
  {
   "cell_type": "code",
   "execution_count": 262,
   "metadata": {},
   "outputs": [],
   "source": [
    "## Spring 2019\n",
    "def normalize_data(df):\n",
    "    min_max_scaler = sklearn.preprocessing.MinMaxScaler()\n",
    "    scaler = [None] * df.shape[1]\n",
    "    for i in range(df.shape[1]):\n",
    "        scaler[i] = min_max_scaler.fit(df[i].values.reshape(-1,1))\n",
    "        df[i] = scaler[i].transform(df[i].values.reshape(-1,1))  \n",
    "    return scaler, df"
   ]
  },
  {
   "cell_type": "code",
   "execution_count": 263,
   "metadata": {},
   "outputs": [],
   "source": [
    "# - choose a specific stock\n",
    "# - drop feature: volume\n",
    "# - normalize stock data\n",
    "# - create train, validation and test data sets\n",
    "\n",
    "# function for min-max normalization of stock\n",
    "# def normalize_data(df):\n",
    "#     min_max_scaler = sklearn.preprocessing.MinMaxScaler()\n",
    "#     df['Open'] = min_max_scaler.fit_transform(df.Open.values.reshape(-1,1))\n",
    "#     df['High'] = min_max_scaler.fit_transform(df.High.values.reshape(-1,1))\n",
    "#     df['Low'] = min_max_scaler.fit_transform(df.Low.values.reshape(-1,1))\n",
    "#     df['Close'] = min_max_scaler.fit_transform(df['Close'].values.reshape(-1,1))\n",
    "#     return df"
   ]
  },
  {
   "cell_type": "code",
   "execution_count": 264,
   "metadata": {},
   "outputs": [
    {
     "data": {
      "text/plain": [
       "2079"
      ]
     },
     "execution_count": 264,
     "metadata": {},
     "output_type": "execute_result"
    }
   ],
   "source": [
    "len(df)"
   ]
  },
  {
   "cell_type": "code",
   "execution_count": 265,
   "metadata": {},
   "outputs": [],
   "source": [
    "# function to create train, validation, test data given stock data and sequence length\n",
    "def load_data(stock, seq_len):\n",
    "    data_raw = stock.as_matrix() # convert to numpy array\n",
    "    data = []\n",
    "    \n",
    "    # create all possible sequences of length seq_len\n",
    "    for index in range(len(data_raw) - seq_len): \n",
    "        data.append(data_raw[index: index + seq_len])\n",
    "    print(len(data[0][0])) ## (len-20)*seq_len* features(include close)\n",
    "    data = np.array(data);\n",
    "    valid_set_size = int(np.round(valid_set_size_percentage/100*data.shape[0]));  \n",
    "    test_set_size = int(np.round(test_set_size_percentage/100*data.shape[0]));\n",
    "    train_set_size = data.shape[0] - (valid_set_size + test_set_size);\n",
    "    \n",
    "    x_train = data[:train_set_size,:-1,:]\n",
    "    y_train = data[:train_set_size,-1,:]\n",
    "    \n",
    "    x_valid = data[train_set_size:train_set_size+valid_set_size,:-1,:]\n",
    "    y_valid = data[train_set_size:train_set_size+valid_set_size,-1,:]\n",
    "    \n",
    "    x_test = data[train_set_size+valid_set_size:,:-1,:]\n",
    "    y_test = data[train_set_size+valid_set_size:,-1,:]\n",
    "    \n",
    "    return [x_train, y_train, x_valid, y_valid, x_test, y_test]"
   ]
  },
  {
   "cell_type": "code",
   "execution_count": 266,
   "metadata": {},
   "outputs": [
    {
     "name": "stdout",
     "output_type": "stream",
     "text": [
      "14\n"
     ]
    },
    {
     "name": "stderr",
     "output_type": "stream",
     "text": [
      "/usr/local/lib/python3.6/site-packages/ipykernel_launcher.py:3: FutureWarning: Method .as_matrix will be removed in a future version. Use .values instead.\n",
      "  This is separate from the ipykernel package so we can avoid doing imports until\n"
     ]
    }
   ],
   "source": [
    " [x_train, y_train, x_valid, y_valid, x_test, y_test] = load_data(df, 20)"
   ]
  },
  {
   "cell_type": "code",
   "execution_count": 267,
   "metadata": {},
   "outputs": [
    {
     "name": "stdout",
     "output_type": "stream",
     "text": [
      "df_stock.columns.values =  [0, 1, 2, 3, 4, 5, 6, 7, 8, 9, 10, 11, 12, 13]\n",
      "14\n",
      "x_train.shape =  (1647, 19, 14)\n",
      "y_train.shape =  (1647, 14)\n",
      "x_valid.shape =  (206, 19, 14)\n",
      "y_valid.shape =  (206, 14)\n",
      "x_test.shape =  (206, 19, 14)\n",
      "y_test.shape =  (206, 14)\n"
     ]
    },
    {
     "name": "stderr",
     "output_type": "stream",
     "text": [
      "/usr/local/lib/python3.6/site-packages/ipykernel_launcher.py:3: FutureWarning: Method .as_matrix will be removed in a future version. Use .values instead.\n",
      "  This is separate from the ipykernel package so we can avoid doing imports until\n"
     ]
    }
   ],
   "source": [
    "# choose one stock\n",
    "df_stock = df.copy()\n",
    "#df_stock.drop(['symbol'],1,inplace=True)\n",
    "# df_stock.drop(['Volume'],1,inplace=True)\n",
    "# df_stock.drop(['Adj Close'],1,inplace=True)\n",
    "\n",
    "cols = list(df_stock.columns.values)\n",
    "print('df_stock.columns.values = ', cols)\n",
    "\n",
    "# normalize stock\n",
    "df_stock_norm = df_stock.copy()\n",
    "min_max_scaler, df_stock_norm = normalize_data(df_stock_norm)\n",
    "# create train, test data\n",
    "seq_len = 20 # choose sequence length\n",
    "x_train, y_train, x_valid, y_valid, x_test, y_test = load_data(df_stock_norm, seq_len)\n",
    "print('x_train.shape = ',x_train.shape)\n",
    "print('y_train.shape = ', y_train.shape)\n",
    "print('x_valid.shape = ',x_valid.shape)\n",
    "print('y_valid.shape = ', y_valid.shape)\n",
    "print('x_test.shape = ', x_test.shape)\n",
    "print('y_test.shape = ',y_test.shape)"
   ]
  },
  {
   "cell_type": "code",
   "execution_count": 268,
   "metadata": {},
   "outputs": [],
   "source": [
    "# plt.figure(figsize=(15, 5));\n",
    "# plt.plot(df_stock_norm.Open.values, color='red', label='open')\n",
    "# plt.plot(df_stock_norm.Close.values, color='green', label='low')\n",
    "# plt.plot(df_stock_norm.Low.values, color='blue', label='low')\n",
    "# plt.plot(df_stock_norm.High.values, color='black', label='high')\n",
    "# #plt.plot(df_stock_norm.volume.values, color='gray', label='volume')\n",
    "# plt.title('stock')\n",
    "# plt.xlabel('time [days]')\n",
    "# plt.ylabel('normalized price/volume')\n",
    "# plt.legend(loc='best')\n",
    "# plt.show()"
   ]
  },
  {
   "cell_type": "markdown",
   "metadata": {},
   "source": [
    "## 4. Model and validate data <a class=\"anchor\" id=\"4-bullet\"></a>"
   ]
  },
  {
   "cell_type": "code",
   "execution_count": 269,
   "metadata": {},
   "outputs": [
    {
     "name": "stdout",
     "output_type": "stream",
     "text": [
      "[   0    1    2 ... 1644 1645 1646]\n"
     ]
    }
   ],
   "source": [
    " # - RNNs with basic, LSTM, GRU cells\n",
    "## Basic Cell RNN in tensorflow\n",
    "\n",
    "index_in_epoch = 0;\n",
    "perm_array  = np.arange(x_train.shape[0])\n",
    "print(perm_array)\n",
    "np.random.shuffle(perm_array)"
   ]
  },
  {
   "cell_type": "code",
   "execution_count": 270,
   "metadata": {},
   "outputs": [],
   "source": [
    "# function to get the next batch\n",
    "def get_next_batch(batch_size):\n",
    "    global index_in_epoch, x_train, perm_array   \n",
    "    start = index_in_epoch\n",
    "    index_in_epoch += batch_size\n",
    "    \n",
    "    if index_in_epoch > x_train.shape[0]:\n",
    "        np.random.shuffle(perm_array) # shuffle permutation array\n",
    "        start = 0 # start next epoch\n",
    "        index_in_epoch = batch_size       \n",
    "    end = index_in_epoch\n",
    "    return x_train[perm_array[start:end]], y_train[perm_array[start:end]]"
   ]
  },
  {
   "cell_type": "code",
   "execution_count": 271,
   "metadata": {},
   "outputs": [
    {
     "name": "stdout",
     "output_type": "stream",
     "text": [
      "0 epochs: MSE train/valid = 0.162947/0.399439\n",
      "4 epochs: MSE train/valid = 0.048047/0.118333\n",
      "9 epochs: MSE train/valid = 0.040202/0.165512\n",
      "14 epochs: MSE train/valid = 0.047174/0.063522\n",
      "19 epochs: MSE train/valid = 0.035416/0.003703\n",
      "24 epochs: MSE train/valid = 0.043796/0.020393\n",
      "29 epochs: MSE train/valid = 0.034300/0.010198\n",
      "34 epochs: MSE train/valid = 0.043337/0.009729\n",
      "39 epochs: MSE train/valid = 0.036393/0.013736\n",
      "44 epochs: MSE train/valid = 0.031927/0.013474\n",
      "49 epochs: MSE train/valid = 0.043672/0.014138\n",
      "54 epochs: MSE train/valid = 0.035066/0.016619\n",
      "59 epochs: MSE train/valid = 0.034836/0.003348\n",
      "64 epochs: MSE train/valid = 0.040195/0.009487\n",
      "69 epochs: MSE train/valid = 0.027106/0.015770\n",
      "74 epochs: MSE train/valid = 0.027650/0.016420\n",
      "79 epochs: MSE train/valid = 0.030959/0.005631\n",
      "84 epochs: MSE train/valid = 0.023318/0.011986\n",
      "89 epochs: MSE train/valid = 0.034130/0.012072\n",
      "94 epochs: MSE train/valid = 0.021283/0.013072\n",
      "99 epochs: MSE train/valid = 0.027061/0.003247\n",
      "104 epochs: MSE train/valid = 0.019754/0.008355\n",
      "109 epochs: MSE train/valid = 0.018205/0.002917\n",
      "114 epochs: MSE train/valid = 0.020904/0.011803\n",
      "119 epochs: MSE train/valid = 0.025564/0.010947\n",
      "124 epochs: MSE train/valid = 0.016171/0.004806\n",
      "129 epochs: MSE train/valid = 0.019805/0.007998\n",
      "134 epochs: MSE train/valid = 0.015641/0.007296\n",
      "139 epochs: MSE train/valid = 0.016359/0.005593\n",
      "144 epochs: MSE train/valid = 0.013877/0.003995\n",
      "149 epochs: MSE train/valid = 0.016619/0.003710\n",
      "154 epochs: MSE train/valid = 0.019384/0.004870\n",
      "159 epochs: MSE train/valid = 0.016192/0.002929\n",
      "164 epochs: MSE train/valid = 0.018476/0.006000\n",
      "169 epochs: MSE train/valid = 0.018226/0.005802\n",
      "174 epochs: MSE train/valid = 0.016499/0.004812\n",
      "179 epochs: MSE train/valid = 0.021784/0.005566\n",
      "184 epochs: MSE train/valid = 0.030243/0.004266\n",
      "189 epochs: MSE train/valid = 0.018166/0.012928\n",
      "194 epochs: MSE train/valid = 0.022333/0.003038\n",
      "199 epochs: MSE train/valid = 0.014576/0.004017\n"
     ]
    }
   ],
   "source": [
    "# parameters\n",
    "index_to_begin = 10\n",
    "index_to_stop = 13\n",
    "\n",
    "n_steps = seq_len-1 \n",
    "n_inputs = 14\n",
    "n_neurons = 512 # number of units is 200\n",
    "n_outputs = 14 #Was 11, should be 1 as we are only interested in close prices\n",
    "n_layers = 5  # layers should be 5\n",
    "learning_rate = 0.0005\n",
    "batch_size = 50 # batch size should be 60\n",
    "n_epochs = 200  # should be 5000\n",
    "train_set_size = x_train.shape[0]\n",
    "test_set_size = x_test.shape[0]\n",
    "\n",
    "tf.reset_default_graph()\n",
    "\n",
    "X = tf.placeholder(tf.float32, [None, n_steps, n_inputs])\n",
    "y = tf.placeholder(tf.float32, [None, n_outputs])\n",
    "\n",
    "# use Basic RNN Cell\n",
    "#layers = [tf.contrib.rnn.BasicRNNCell(num_units=n_neurons, activation=tf.nn.elu)\n",
    "    #      for layer in range(n_layers)]\n",
    "\n",
    "# use Basic LSTM Cell \n",
    "layers = [tf.contrib.rnn.BasicLSTMCell(name='basic_lstm_cell',num_units=n_neurons, activation=tf.nn.elu)\n",
    "          for layer in range(n_layers)]\n",
    "\n",
    "# use LSTM Cell with peephole connections\n",
    "#layers = [tf.contrib.rnn.LSTMCell(num_units=n_neurons, \n",
    "#                                  activation=tf.nn.leaky_relu, use_peepholes = True)\n",
    "#          for layer in range(n_layers)]\n",
    "\n",
    "# use GRU cell\n",
    "#layers = [tf.contrib.rnn.GRUCell(num_units=n_neurons, activation=tf.nn.leaky_relu)\n",
    "#          for layer in range(n_layers)]\n",
    "                                                                     \n",
    "multi_layer_cell = tf.contrib.rnn.MultiRNNCell(layers)\n",
    "rnn_outputs, states = tf.nn.dynamic_rnn(multi_layer_cell, X, dtype=tf.float32)\n",
    "\n",
    "stacked_rnn_outputs = tf.reshape(rnn_outputs, [-1, n_neurons]) \n",
    "stacked_outputs = tf.layers.dense(stacked_rnn_outputs, n_outputs)\n",
    "outputs = tf.reshape(stacked_outputs, [-1, n_steps, n_outputs])\n",
    "outputs = outputs[:,n_steps-1,:] # keep only last output of sequence\n",
    "                                              \n",
    "loss = tf.reduce_mean(tf.square(outputs - y)[index_to_begin:index_to_stop]) \n",
    "# loss function = mean squared error \n",
    "#I made loss function only dependend on the indexes that we are interested in, instead of all variables\n",
    "\n",
    "optimizer = tf.train.AdamOptimizer(learning_rate=learning_rate) \n",
    "training_op = optimizer.minimize(loss)\n",
    "                                              \n",
    "# run graph\n",
    "with tf.Session() as sess: \n",
    "    sess.run(tf.global_variables_initializer())\n",
    "    for iteration in range(int(n_epochs*train_set_size/batch_size)):\n",
    "        x_batch, y_batch = get_next_batch(batch_size) # fetch the next training batch \n",
    "        sess.run(training_op, feed_dict={X: x_batch, y: y_batch}) \n",
    "        if iteration % int(5*train_set_size/batch_size) == 0:\n",
    "            mse_train = loss.eval(feed_dict={X: x_train, y: y_train}) \n",
    "            mse_valid = loss.eval(feed_dict={X: x_valid, y: y_valid}) \n",
    "            print('%d epochs: MSE train/valid = %.6f/%.6f'%(\n",
    "                int(iteration*batch_size/train_set_size), mse_train, mse_valid))\n",
    "\n",
    "    y_train_pred = sess.run(outputs, feed_dict={X: x_train})\n",
    "    y_valid_pred = sess.run(outputs, feed_dict={X: x_valid})\n",
    "    y_test_pred = sess.run(outputs, feed_dict={X: x_test})"
   ]
  },
  {
   "cell_type": "code",
   "execution_count": 272,
   "metadata": {},
   "outputs": [],
   "source": [
    "# # 5. Predictions <a class=\"anchor\" id=\"5-bullet\"></a> \n",
    "\n",
    "#De-normalize the values\n",
    "for i in range(y_train.shape[1]):\n",
    "    y_train[:,i] = min_max_scaler[i].inverse_transform(y_train[:,i].reshape(1,-1))\n",
    "    y_train_pred[:,i] = min_max_scaler[i].inverse_transform(y_train_pred[:,i].reshape(1,-1))\n",
    "    y_valid[:,i] = min_max_scaler[i].inverse_transform(y_valid[:,i].reshape(1,-1))\n",
    "    y_valid_pred[:,i] = min_max_scaler[i].inverse_transform(y_valid_pred[:,i].reshape(1,-1))\n",
    "    y_test[:,i] = min_max_scaler[i].inverse_transform(y_test[:,i].reshape(1,-1))\n",
    "    y_test_pred[:,i] = min_max_scaler[i].inverse_transform(y_test_pred[:,i].reshape(1,-1))"
   ]
  },
  {
   "cell_type": "code",
   "execution_count": 273,
   "metadata": {
    "scrolled": false
   },
   "outputs": [
    {
     "name": "stdout",
     "output_type": "stream",
     "text": [
      "correct sign prediction for close - (close-1) price for train/valid/test: 0.55/0.44/0.49\n"
     ]
    },
    {
     "data": {
      "image/png": "[encoded data removed]",
      "text/plain": [
       "<Figure size 1080x360 with 2 Axes>"
      ]
     },
     "metadata": {
      "needs_background": "light"
     },
     "output_type": "display_data"
    }
   ],
   "source": [
    "ft = 10  # 10=close, 11=open, 12=high, 13=low\n",
    "## show predictions\n",
    "plt.figure(figsize=(15, 5));\n",
    "plt.subplot(1,2,1);\n",
    "\n",
    "plt.plot(np.arange(y_train.shape[0]), y_train[:,ft], color='blue', label='train target')\n",
    "\n",
    "plt.plot(np.arange(y_train.shape[0], y_train.shape[0] + y_valid.shape[0]), y_valid[:,ft],\n",
    "         color='gray', label='valid target')\n",
    "\n",
    "plt.plot(np.arange(y_train.shape[0]+y_valid.shape[0],\n",
    "                   y_train.shape[0]+y_test.shape[0]+y_test.shape[0]),\n",
    "         y_test[:,ft], color='black', label='test target')\n",
    "\n",
    "plt.plot(np.arange(y_train_pred.shape[0]),y_train_pred[:,ft], color='red',\n",
    "         label='train prediction')\n",
    "\n",
    "plt.plot(np.arange(y_train_pred.shape[0], y_train_pred.shape[0]+y_valid_pred.shape[0]),\n",
    "         y_valid_pred[:,ft], color='orange', label='valid prediction')\n",
    "\n",
    "plt.plot(np.arange(y_train_pred.shape[0]+y_valid_pred.shape[0],\n",
    "                   y_train_pred.shape[0]+y_valid_pred.shape[0]+y_test_pred.shape[0]),\n",
    "         y_test_pred[:,ft], color='green', label='test prediction')\n",
    "\n",
    "plt.title('Past and Future stock prices')\n",
    "plt.xlabel('Time [days]')\n",
    "plt.ylabel('Price')\n",
    "plt.legend(loc='best');\n",
    "\n",
    "plt.subplot(1,2,2);\n",
    "\n",
    "plt.plot(np.arange(y_train.shape[0], y_train.shape[0]+y_test.shape[0]),\n",
    "         y_test[:,ft], color='black', label='test target')\n",
    "\n",
    "plt.plot(np.arange(y_train_pred.shape[0], y_train_pred.shape[0]+y_test_pred.shape[0]),\n",
    "         y_test_pred[:,ft], color='green', label='test prediction')\n",
    "\n",
    "plt.title('Future Stock Prices')\n",
    "plt.xlabel('Time [days]')\n",
    "plt.ylabel('Price')\n",
    "plt.legend(loc='best');\n",
    "\n",
    "\n",
    "#adjust the columns of the variables in order to get the right accuracy prediction. \n",
    "sign_correct_train = np.sum(np.equal(np.sign(y_train[1:,ft]-y_train[:len(y_train)-1,ft]),\n",
    "            np.sign(y_train_pred[1:,ft]-y_train_pred[:len(y_train_pred)-1,ft])).astype(int))\n",
    "corr_price_development_train = sign_correct_train / y_train.shape[0]\n",
    "\n",
    "sign_correct_valid = np.sum(np.equal(np.sign(y_valid[1:,ft]-y_valid[:len(y_valid)-1,ft]),\n",
    "            np.sign(y_valid_pred[1:,ft]-y_valid_pred[:len(y_valid_pred)-1,ft])).astype(int))\n",
    "corr_price_development_valid = sign_correct_valid / y_valid.shape[0]\n",
    "\n",
    "sign_correct_test = np.sum(np.equal(np.sign(y_test[1:,ft]-y_test[:len(y_test)-1,ft]),\n",
    "            np.sign(y_test_pred[1:,ft]-y_test_pred[:len(y_test_pred)-1,ft])).astype(int))\n",
    "corr_price_development_test = sign_correct_test / y_test.shape[0]\n",
    "\n",
    "print('correct sign prediction for close - (close-1) price for train/valid/test: %.2f/%.2f/%.2f'%(\n",
    "    corr_price_development_train, corr_price_development_valid, corr_price_development_test))\n",
    "plt.show()"
   ]
  },
  {
   "cell_type": "code",
   "execution_count": 274,
   "metadata": {},
   "outputs": [
    {
     "name": "stdout",
     "output_type": "stream",
     "text": [
      "7.965873626749997e-05\n",
      "0.10882355441863456\n",
      "0.8344962831599011\n"
     ]
    }
   ],
   "source": [
    "#Test the significance level of our correct sign prediction\n",
    "significance_train = scipy.stats.binom_test(sign_correct_train, n=y_train.shape[0], p=0.50)\n",
    "significance_valid = scipy.stats.binom_test(sign_correct_valid, n=y_valid.shape[0], p=0.50)\n",
    "significance_test = scipy.stats.binom_test(sign_correct_test, n=y_test.shape[0], p=0.50)\n",
    "print(significance_train)\n",
    "print(significance_valid)\n",
    "print(significance_test)"
   ]
  },
  {
   "cell_type": "code",
   "execution_count": 282,
   "metadata": {},
   "outputs": [
    {
     "name": "stdout",
     "output_type": "stream",
     "text": [
      "MAPE for train/validation/test set : 1.01/1.03/1.04\n"
     ]
    }
   ],
   "source": [
    "#Calculate MAPE\n",
    "mape_train = np.mean(abs(np.divide(y_train_pred,y_train)))\n",
    "mape_valid = np.mean(abs(np.divide(y_valid_pred, y_valid)))\n",
    "mape_test = np.mean(abs(np.divide(y_test_pred, y_test)))\n",
    "print('MAPE for train/validation/test set : %.2f/%.2f/%.2f'%(mape_train, mape_valid, mape_test))"
   ]
  },
  {
   "cell_type": "code",
   "execution_count": 278,
   "metadata": {},
   "outputs": [],
   "source": [
    "#Store the actual values and predictions in a dataframe and export\n",
    "log_files_path_export = 'Data/Output/'\n",
    "export_pred = np.concatenate([y_train_pred[:,ft], y_valid_pred[:,ft], y_test_pred[:,ft]])\n",
    "export_pred_df = pd.DataFrame(export_pred)\n",
    "export_pred_df.to_csv(log_files_path_export + 'LSTModel_outputY5levelWT3layer18-14-10.csv')\n",
    "\n",
    "\n",
    "export_actual =  np.concatenate([y_train[:,ft], y_valid[:,ft], y_test[:,ft]])\n",
    "export_actual_df = pd.DataFrame(export_actual)\n",
    "export_actual_df.to_csv(log_files_path_export + 'actualY5levelWT3layer18-14-10.csv')"
   ]
  },
  {
   "cell_type": "markdown",
   "metadata": {},
   "source": [
    "To do:\n",
    "- De-normalize the final output of the LSTM!!!! -> Done\n",
    "\n",
    "- adjust for open, high, low (should be easy to do) -> Done\n",
    "- Adjust strategies/plots for open, high, low\n",
    "- Look at why 11 outputs\n",
    "- Inspect convergence of LSTM ->Learning rate of 0.0005 seems okay, starts cycling after 150 iterations\n",
    "- Make 1-layer data LSTMs work -> Mistake was in autoencoder header, is fixed, but needs to be rerun.\n",
    "- Change BLSTM\n",
    "- Change GRU\n",
    "- Run LSTMs on raw data\n",
    "- Other criteria for model fit -> Include MAPE\n",
    "- Include NLP-data\n",
    "- Optimize bounds of strategies"
   ]
  },
  {
   "cell_type": "code",
   "execution_count": 277,
   "metadata": {},
   "outputs": [],
   "source": [
    "log_files_path_export = 'Data/Output/'\n",
    "export_pred = np.concatenate([y_train_pred, y_valid_pred, y_test_pred])\n",
    "export_pred_df = pd.DataFrame(export_pred)\n",
    "export_pred_df.to_csv(log_files_path_export + 'allOutputsLSTModel_outputY5levelWT3layer18-14-10.csv')\n",
    "\n",
    "\n",
    "export_actual =  np.concatenate([y_train, y_valid, y_test])\n",
    "export_actual_df = pd.DataFrame(export_actual)\n",
    "export_actual_df.to_csv(log_files_path_export + 'allOutputsActualY5levelWT3layer18-14-10.csv')"
   ]
  },
  {
   "cell_type": "code",
   "execution_count": null,
   "metadata": {},
   "outputs": [],
   "source": []
  }
 ],
 "metadata": {
  "kernelspec": {
   "display_name": "Python 3",
   "language": "python",
   "name": "python3"
  },
  "language_info": {
   "codemirror_mode": {
    "name": "ipython",
    "version": 3
   },
   "file_extension": ".py",
   "mimetype": "text/x-python",
   "name": "python",
   "nbconvert_exporter": "python",
   "pygments_lexer": "ipython3",
   "version": "3.6.3"
  }
 },
 "nbformat": 4,
 "nbformat_minor": 2
}
