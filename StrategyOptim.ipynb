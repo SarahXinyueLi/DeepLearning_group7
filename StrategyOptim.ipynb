{
 "cells": [
  {
   "cell_type": "markdown",
   "metadata": {},
   "source": [
    "# Strategy-optimization"
   ]
  },
  {
   "cell_type": "code",
   "execution_count": 1,
   "metadata": {},
   "outputs": [],
   "source": [
    "import numpy as np\n",
    "import cvxpy as cvx"
   ]
  },
  {
   "cell_type": "code",
   "execution_count": 2,
   "metadata": {},
   "outputs": [],
   "source": [
    "T = 280"
   ]
  },
  {
   "cell_type": "code",
   "execution_count": 3,
   "metadata": {},
   "outputs": [
    {
     "ename": "AttributeError",
     "evalue": "module 'cvxopt' has no attribute 'Variable'",
     "output_type": "error",
     "traceback": [
      "\u001b[1;31m---------------------------------------------------------------------------\u001b[0m",
      "\u001b[1;31mAttributeError\u001b[0m                            Traceback (most recent call last)",
      "\u001b[1;32m<ipython-input-3-3ea167c800f6>\u001b[0m in \u001b[0;36m<module>\u001b[1;34m()\u001b[0m\n\u001b[0;32m      1\u001b[0m \u001b[1;31m#Outermost if-else statements\u001b[0m\u001b[1;33m\u001b[0m\u001b[1;33m\u001b[0m\u001b[0m\n\u001b[1;32m----> 2\u001b[1;33m \u001b[0mz1\u001b[0m \u001b[1;33m=\u001b[0m \u001b[0mcvx\u001b[0m\u001b[1;33m.\u001b[0m\u001b[0mVariable\u001b[0m\u001b[1;33m(\u001b[0m\u001b[0mT\u001b[0m\u001b[1;33m)\u001b[0m \u001b[1;31m#make binary\u001b[0m\u001b[1;33m\u001b[0m\u001b[0m\n\u001b[0m\u001b[0;32m      3\u001b[0m \u001b[0mz2\u001b[0m \u001b[1;33m=\u001b[0m \u001b[0mcvx\u001b[0m\u001b[1;33m.\u001b[0m\u001b[0mVariable\u001b[0m\u001b[1;33m(\u001b[0m\u001b[0mT\u001b[0m\u001b[1;33m)\u001b[0m \u001b[1;31m#Make binary\u001b[0m\u001b[1;33m\u001b[0m\u001b[0m\n\u001b[0;32m      4\u001b[0m \u001b[0mz3\u001b[0m \u001b[1;33m=\u001b[0m \u001b[0mcvx\u001b[0m\u001b[1;33m.\u001b[0m\u001b[0mVariable\u001b[0m\u001b[1;33m(\u001b[0m\u001b[0mT\u001b[0m\u001b[1;33m)\u001b[0m \u001b[1;31m#make binary\u001b[0m\u001b[1;33m\u001b[0m\u001b[0m\n\u001b[0;32m      5\u001b[0m \u001b[0mz4\u001b[0m \u001b[1;33m=\u001b[0m \u001b[0mcvx\u001b[0m\u001b[1;33m.\u001b[0m\u001b[0mVariable\u001b[0m\u001b[1;33m(\u001b[0m\u001b[0mT\u001b[0m\u001b[1;33m)\u001b[0m \u001b[1;31m#make binary\u001b[0m\u001b[1;33m\u001b[0m\u001b[0m\n",
      "\u001b[1;31mAttributeError\u001b[0m: module 'cvxopt' has no attribute 'Variable'"
     ]
    }
   ],
   "source": [
    "#Parameters of the model\n",
    "k = cvx.Parameter(T)\n",
    "# k = df_total[i+1,1] - df_total[i,1])/df_total[i,1]INSERT FORMULA FOR K\n",
    "investment = cvx.Parameter(1, value = 100)\n",
    "daily_interest = cvx.Parameter(1, value = 0.01/365)\n",
    "\n",
    "\n",
    "#Outermost if-else statements\n",
    "z1 = cvx.Variable(T, boolean = True) #make binary \n",
    "z2 = cvx.Variable(T, boolean = True) #Make binary\n",
    "z3 = cvx.Variable(T, boolean = True) #make binary\n",
    "z4 = cvx.Variable(T, boolean = True) #make binary\n",
    "z5 = cvx.Variable(T, boolean = True) #make binary\n",
    "\n",
    "z1min = cvx.Variable(T, boolean = True) #make binary\n",
    "z2min = cvx.Variable(T, boolean = True) #Make binary\n",
    "z3min = cvx.Variable(T, boolean = True) #make binary\n",
    "z4min = cvx.Variable(T, boolean = True) #make binary\n",
    "\n",
    "\n",
    "#Innermost if-else\n",
    "pos_long = cvx.Variable(T, boolean = True) #Make binary\n",
    "pos_short = cvx.Variable(T, boolean = True) #make binary\n",
    "pos_zero = cvx.Variable(T, boolean = True) #make binary\n",
    "\n",
    "\n",
    "#Total if-else cases\n",
    "c11 = cvx.Variable(T, boolean = True) #make binary \n",
    "c12 = cvx.Variable(T, boolean = True) #Make binary\n",
    "c13 = cvx.Variable(T, boolean = True) #make binary\n",
    "c21 = cvx.Variable(T, boolean = True) #make binary\n",
    "c22 = cvx.Variable(T, boolean = True) #make binary \n",
    "c23 = cvx.Variable(T, boolean = True) #Make binary\n",
    "\n",
    "#cost associated with transactions\n",
    "#cost11 = cvx.Variable(T)\n",
    "#cost12 = cvx.Variable(T)\n",
    "#cost13 = cvx.Variable(T)\n",
    "#cost21 = cvx.Variable(T)\n",
    "#cost22 = cvx.Variable(T)\n",
    "#cost23 = cvx.Variable(T)\n",
    "#cost3 = cvx.Variable(T)\n",
    "#cost4 = cvx.Variable(T)\n",
    "#cost5 = cvx.Variable(T)\n",
    "cost = cvx.Variable(T)\n",
    "\n",
    "\n",
    "LB_short = cvx.Variable(T)\n",
    "UB_short = cvx.Variable(T)\n",
    "LB_long = cvx.Variable(T)\n",
    "UB_long = cvx.Variable(T)\n",
    "\n",
    "recent_profit = cvx.Variable(T+1)\n",
    "wealth = cvx.Variable(T+1)"
   ]
  },
  {
   "cell_type": "code",
   "execution_count": 4,
   "metadata": {},
   "outputs": [
    {
     "ename": "NameError",
     "evalue": "name 'cvx' is not defined",
     "output_type": "error",
     "traceback": [
      "\u001b[1;31m---------------------------------------------------------------------------\u001b[0m",
      "\u001b[1;31mNameError\u001b[0m                                 Traceback (most recent call last)",
      "\u001b[1;32m<ipython-input-4-73090830b216>\u001b[0m in \u001b[0;36m<module>\u001b[1;34m()\u001b[0m\n\u001b[1;32m----> 1\u001b[1;33m \u001b[0mobjective\u001b[0m \u001b[1;33m=\u001b[0m \u001b[0mcvx\u001b[0m\u001b[1;33m.\u001b[0m\u001b[0mMaximize\u001b[0m\u001b[1;33m(\u001b[0m\u001b[0mwealth\u001b[0m\u001b[1;33m[\u001b[0m\u001b[0mT\u001b[0m\u001b[1;33m-\u001b[0m\u001b[1;36m1\u001b[0m\u001b[1;33m]\u001b[0m\u001b[1;33m)\u001b[0m\u001b[1;33m\u001b[0m\u001b[0m\n\u001b[0m\u001b[0;32m      2\u001b[0m \u001b[1;33m\u001b[0m\u001b[0m\n\u001b[0;32m      3\u001b[0m \u001b[0mconstraints\u001b[0m \u001b[1;33m=\u001b[0m \u001b[1;33m[\u001b[0m\u001b[1;33m]\u001b[0m\u001b[1;33m\u001b[0m\u001b[0m\n\u001b[0;32m      4\u001b[0m \u001b[0mconstraints\u001b[0m \u001b[1;33m+=\u001b[0m \u001b[1;33m[\u001b[0m\u001b[0mz1\u001b[0m \u001b[1;33m>\u001b[0m \u001b[1;33m(\u001b[0m\u001b[0mk\u001b[0m \u001b[1;33m-\u001b[0m \u001b[0mLB_long\u001b[0m\u001b[1;33m)\u001b[0m\u001b[1;33m]\u001b[0m\u001b[1;33m\u001b[0m\u001b[0m\n\u001b[0;32m      5\u001b[0m \u001b[0mconstraints\u001b[0m \u001b[1;33m+=\u001b[0m \u001b[1;33m[\u001b[0m\u001b[0mz1min\u001b[0m  \u001b[1;33m>\u001b[0m \u001b[0mLB_long\u001b[0m \u001b[1;33m-\u001b[0m \u001b[0mk\u001b[0m \u001b[1;33m]\u001b[0m\u001b[1;33m\u001b[0m\u001b[0m\n",
      "\u001b[1;31mNameError\u001b[0m: name 'cvx' is not defined"
     ]
    }
   ],
   "source": [
    "objective = cvx.Maximize(wealth[T])\n",
    "\n",
    "constraints = []\n",
    "constraints += [z1 > (k - LB_long)]\n",
    "constraints += [z1min  > LB_long - k ]\n",
    "constraints += [z1 + z1min == 1]\n",
    "\n",
    "constraints += [z2  > -(k - UB_short)]\n",
    "constraints += [z2min  > -(UB_short - k) ]\n",
    "constraints += [z2 + z2min == 1]\n",
    "\n",
    "constraints += [z1 + z3 > (k - UB_long)]\n",
    "constraints += [z3min  > (UB_long - k) ]\n",
    "constraints += [z3min <= pos_long]\n",
    "constraints += [z1 + z3 + z3min == 1]\n",
    "\n",
    "constraints += [z2 + z4 > -(k - LB_short)]\n",
    "constraints += [z4min  > -(LB_short - k) ]\n",
    "constraints += [z4min <= pos_short]\n",
    "constraints += [z2 + z4 + z4min == 1]\n",
    "\n",
    "constraints += [z1 + z2 + z3 + z4 + z5 == 1]\n",
    "\n",
    "constraints += [pos_long[1:T-1] >= z1[0:T-1]]\n",
    "constraints += [pos_long[1:T-1] <= z1[0:T-1] + z3[0:T-2]]\n",
    "\n",
    "constraints += [pos_long[0] == 0]\n",
    "\n",
    "constraints += [pos_short[1:T-1] >= z2[0:T-1]]\n",
    "constraints += [pos_short[1:T-1] <= z2[0:T-1] + z4[0:T-2]]\n",
    "constraints += [pos_short[0] == 0]\n",
    "\n",
    "constraints += [pos_zero == 1 - pos_long - pos_short]\n",
    "constraints += [wealth[0] == 0]\n",
    "constraints += [recent_profit[0] == 0]"
   ]
  },
  {
   "cell_type": "code",
   "execution_count": null,
   "metadata": {},
   "outputs": [],
   "source": [
    "#Total if-else cases\n",
    "constraints += [c11 <= z1, c11 <= pos_short, c11 >= -1 + z1 + pos_short]\n",
    "constraints += [c12 <= z1, c12 <= pos_zero, c11 >= -1 + z1 + pos_zero]\n",
    "constraints += [c13 <= z1, c13 <= pos_long, c11 >= -1 + z1 + pos_long]\n",
    "\n",
    "constraints += [c21 <= z2, c21 <= pos_long, c11 >= -1 + z1 + pos_long]\n",
    "constraints += [c22 <= z2, c22 <= pos_zero, c11 >= -1 + z1 + pos_zero]\n",
    "constraints += [c23 <= z2, c23 <= pos_short, c11 >= -1 + z1 + pos_short]"
   ]
  },
  {
   "cell_type": "code",
   "execution_count": 4,
   "metadata": {},
   "outputs": [
    {
     "data": {
      "text/plain": [
       "'\\nconstraints += [recent_profit[1:T] == investment * k * (z1 + z3 - z2 - z4) + daily_interest * z5]\\nconstraints += [cost11 == 2*investment*transaction_cost + recent_profit[0:T-1]*transaction_cost] \\n#constraints += [cost == (2*c11+c12+2*c21+c22+z5)*investment*transaction_cost + recent_profit[0:T-1]*transaction_cost] \\nconstraints += [cost12 == investment*transaction_cost]\\nconstraints += [cost13 == recent_profit[0:T-1]*transaction_cost]\\nconstraints += [cost21 == 2*investment*transaction_cost + recent_profit[0:T-1]*transaction_cost]\\nconstraints += [cost22 == investment*transaction_cost]\\nconstraints += [cost23 == recent_profit[0:T-1]*transaction_cost]\\nconstraints += [cost3 == recent_profit[0:T-1]*transaction_cost]\\nconstraints += [cost4 == recent_profit[0:T-1]*transaction_cost]\\nconstraints += [cost5 == investment*transaction_cost + recent_profit[0:T-1]*transaction_cost]\\n\\nconstraints += [wealth[1:T] == recent_profit[1:T] - c11*cost11 - c12*cost12 - c13*cost13 - c21*cost21 - c22*costc22 - c23*cost23\\n               - z3*cost3 - z4*cost4 - z5*cost5]\\n'"
      ]
     },
     "execution_count": 4,
     "metadata": {},
     "output_type": "execute_result"
    }
   ],
   "source": [
    "#TO FIX: cost * Z !!!!!!\n",
    "'''\n",
    "constraints += [recent_profit[1:T] == investment * k * (z1 + z3 - z2 - z4) + daily_interest * z5]\n",
    "constraints += [cost11 == 2*investment*transaction_cost + recent_profit[0:T-1]*transaction_cost] \n",
    "#constraints += [cost == (2*c11+c12+2*c21+c22+z5)*investment*transaction_cost + recent_profit[0:T-1]*transaction_cost] \n",
    "constraints += [cost12 == investment*transaction_cost]\n",
    "constraints += [cost13 == recent_profit[0:T-1]*transaction_cost]\n",
    "constraints += [cost21 == 2*investment*transaction_cost + recent_profit[0:T-1]*transaction_cost]\n",
    "constraints += [cost22 == investment*transaction_cost]\n",
    "constraints += [cost23 == recent_profit[0:T-1]*transaction_cost]\n",
    "constraints += [cost3 == recent_profit[0:T-1]*transaction_cost]\n",
    "constraints += [cost4 == recent_profit[0:T-1]*transaction_cost]\n",
    "constraints += [cost5 == investment*transaction_cost + recent_profit[0:T-1]*transaction_cost]\n",
    "\n",
    "constraints += [wealth[1:T] == recent_profit[1:T] - c11*cost11 - c12*cost12 - c13*cost13 - c21*cost21 - c22*costc22 - c23*cost23\n",
    "               - z3*cost3 - z4*cost4 - z5*cost5]\n",
    "'''"
   ]
  },
  {
   "cell_type": "code",
   "execution_count": null,
   "metadata": {},
   "outputs": [],
   "source": [
    "constraints += [recent_profit[1:T] == investment * k * (c11 + c12 + c13 + z3 - c21 - c22 - c23 - z4) + daily_interest * z5]\n",
    "constraints += [cost == (2*c11+c12+2*c21+c22+z5)*investment*transaction_cost + recent_profit[0:T-1]*transaction_cost] \n",
    "constraints += [wealth[1:T] == recent_profit[1:T] - cost]"
   ]
  },
  {
   "cell_type": "code",
   "execution_count": null,
   "metadata": {},
   "outputs": [],
   "source": [
    "prob = cvx.Problem(objective, constraints)\n",
    "prob.solve()\n",
    "\n",
    "np.set_printoptions(precision=4,suppress=True)\n",
    "print('Problem status: ' + str(prob.status));\n",
    "if (prob.status == 'optimal'):\n",
    "    print('Problem value: %.3f' % prob.value);\n",
    "    print('Lower bound long: ')\n",
    "    print(LB_long.value.transpose())\n",
    "    print('Upper bound long: ')\n",
    "    print(UB_long.value.transpose())\n",
    "     print('Lower bound short: ')\n",
    "    print(LB_short.value.transpose())\n",
    "    print('Upper bound short: ')\n",
    "    print(UB_short.value.transpose())"
   ]
  },
  {
   "cell_type": "code",
   "execution_count": null,
   "metadata": {},
   "outputs": [],
   "source": [
    "def add_strat(df_total, transaction_cost, investment, lower_bound_invest_long, upper_bound_invest_short,\n",
    "              lower_bound_hold_long, upper_bound_hold_short, daily_interest_rate):\n",
    "    #position = 0\n",
    "    wealth = [0]*df_total.shape[0]\n",
    "    profit = 0 #Starting wealth\n",
    "    recent_profit = 0 #Profit from the previous day\n",
    "    current_position = 0 #0 = no position, 1 = long, -1 = short\n",
    "    for i in range(df_total.shape[0]-1):\n",
    "        if((df_total[i+1,1] - df_total[i,1])/df_total[i,1] > lower_bound_invest_long):\n",
    "            if(current_position == -1):\n",
    "                profit -= (2*investment*transaction_cost + recent_profit*transaction_cost) #Sell position and short stock\n",
    "            if(current_position == 0):\n",
    "                profit -= investment*transaction_cost \n",
    "            else:\n",
    "                profit -= recent_profit*transaction_cost #Make sure our position is equal to the investment\n",
    "            recent_profit = investment*(df_total[i+1,0] - df_total[i,0])/df_total[i,0] #We were long\n",
    "            profit += recent_profit\n",
    "            current_position = 1\n",
    "        elif(-(df_total[i+1,1] - df_total[i,1]) / df_total[i,1] < upper_bound_invest_short):\n",
    "            if(current_position == 1):\n",
    "                profit -= (2*investment*transaction_cost + recent_profit*transaction_cost) #Sell position and short stock\n",
    "            if(current_position == 0):\n",
    "                profit -= investment*transaction_cost \n",
    "            else:\n",
    "                profit -= recent_profit*transaction_cost #Make sure our position is equal to the investment\n",
    "            recent_profit = -investment*(df_total[i+1,0] - df_total[i,0])/df_total[i,0] #We were short\n",
    "            profit += recent_profit\n",
    "            current_position = -1\n",
    "        elif(lower_bound_invest_long > (df_total[i+1,1] - df_total[i,1])/df_total[i,1] > lower_bound_hold_long \n",
    "             and current_position == 1):\n",
    "            profit -= recent_profit*transaction_cost #Make sure our long position equals investment\n",
    "            recent_profit = investment*(df_total[i+1,0] - df_total[i,0])/df_total[i,0] #We were long\n",
    "            profit += recent_profit\n",
    "        elif(upper_bound_invest_short < (df_total[i+1,1] - df_total[i,1])/df_total[i,1] < upper_bound_hold_short \n",
    "             and current_position == -1):\n",
    "            profit -= recent_profit*transaction_cost #Make sure our short position equals investment\n",
    "            recent_profit = -investment*(df_total[i+1,0] - df_total[i,0])/df_total[i,0] #We were short\n",
    "            profit += recent_profit\n",
    "        else: #We unwind our position and do not invest\n",
    "            profit -= (investment + recent_profit)*transaction_cost\n",
    "            recent_profit = investment * daily_interest_rate #We didn't invest, so we get the interest rate of our bank account.\n",
    "            profit += recent_profit\n",
    "            current_position = 0\n",
    "            \n",
    "        wealth[i+1] = profit\n",
    "        #if(current_position !=0):\n",
    "        #    position += 1\n",
    "    #print(position)\n",
    "    return wealth, profit"
   ]
  }
 ],
 "metadata": {
  "kernelspec": {
   "display_name": "Python 3",
   "language": "python",
   "name": "python3"
  },
  "language_info": {
   "codemirror_mode": {
    "name": "ipython",
    "version": 3
   },
   "file_extension": ".py",
   "mimetype": "text/x-python",
   "name": "python",
   "nbconvert_exporter": "python",
   "pygments_lexer": "ipython3",
   "version": "3.5.6"
  }
 },
 "nbformat": 4,
 "nbformat_minor": 2
}
